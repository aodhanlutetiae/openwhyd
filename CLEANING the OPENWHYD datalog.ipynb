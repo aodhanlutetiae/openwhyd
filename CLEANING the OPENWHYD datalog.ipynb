{
 "cells": [
  {
   "cell_type": "markdown",
   "metadata": {},
   "source": [
    "# Cleaning the OPENWHYD datalog"
   ]
  },
  {
   "cell_type": "code",
   "execution_count": 2,
   "metadata": {},
   "outputs": [],
   "source": [
    "\n",
    "import pandas as pd\n",
    "import requests                         # for scraping title from yt site\n",
    "from bs4 import BeautifulSoup as bs     # for retrieving info on the tracks from the youtube website.\n",
    "import time                             # for timing how long a batch of requests to youtube has taken\n",
    "import os                               # for ringing bell when large batch of requests to youtube has finished\n"
   ]
  },
  {
   "cell_type": "code",
   "execution_count": 45,
   "metadata": {},
   "outputs": [],
   "source": [
    "# importer 700MB log: \n",
    "\n",
    "log = pd.read_csv('/Users/aidanairuser/Desktop/OPENWHYD/yt_playlog_0404.csv')\n"
   ]
  },
  {
   "cell_type": "code",
   "execution_count": 49,
   "metadata": {},
   "outputs": [
    {
     "name": "stdout",
     "output_type": "stream",
     "text": [
      "(25739537, 3)\n",
      "nb of users: 45904\n",
      "nb of songs: 631348\n"
     ]
    },
    {
     "data": {
      "text/html": [
       "<div>\n",
       "<style scoped>\n",
       "    .dataframe tbody tr th:only-of-type {\n",
       "        vertical-align: middle;\n",
       "    }\n",
       "\n",
       "    .dataframe tbody tr th {\n",
       "        vertical-align: top;\n",
       "    }\n",
       "\n",
       "    .dataframe thead th {\n",
       "        text-align: right;\n",
       "    }\n",
       "</style>\n",
       "<table border=\"1\" class=\"dataframe\">\n",
       "  <thead>\n",
       "    <tr style=\"text-align: right;\">\n",
       "      <th></th>\n",
       "      <th>timestamp</th>\n",
       "      <th>user</th>\n",
       "      <th>song</th>\n",
       "    </tr>\n",
       "  </thead>\n",
       "  <tbody>\n",
       "    <tr>\n",
       "      <th>0</th>\n",
       "      <td>1392387533</td>\n",
       "      <td>0</td>\n",
       "      <td>t1l8Z6gLPzo</td>\n",
       "    </tr>\n",
       "    <tr>\n",
       "      <th>1</th>\n",
       "      <td>1392387538</td>\n",
       "      <td>1</td>\n",
       "      <td>t1l8Z6gLPzo</td>\n",
       "    </tr>\n",
       "    <tr>\n",
       "      <th>2</th>\n",
       "      <td>1392387556</td>\n",
       "      <td>2</td>\n",
       "      <td>t1l8Z6gLPzo</td>\n",
       "    </tr>\n",
       "    <tr>\n",
       "      <th>3</th>\n",
       "      <td>1392387561</td>\n",
       "      <td>3</td>\n",
       "      <td>we5gzZq5Avg</td>\n",
       "    </tr>\n",
       "    <tr>\n",
       "      <th>4</th>\n",
       "      <td>1392387566</td>\n",
       "      <td>4</td>\n",
       "      <td>we5gzZq5Avg</td>\n",
       "    </tr>\n",
       "  </tbody>\n",
       "</table>\n",
       "</div>"
      ],
      "text/plain": [
       "    timestamp  user         song\n",
       "0  1392387533     0  t1l8Z6gLPzo\n",
       "1  1392387538     1  t1l8Z6gLPzo\n",
       "2  1392387556     2  t1l8Z6gLPzo\n",
       "3  1392387561     3  we5gzZq5Avg\n",
       "4  1392387566     4  we5gzZq5Avg"
      ]
     },
     "execution_count": 49,
     "metadata": {},
     "output_type": "execute_result"
    }
   ],
   "source": [
    "# regarder le log. NOTE - the order here is not in terms of user, it's in terms of the time stamp\n",
    "\n",
    "print (log.shape)\n",
    "print (\"nb of users:\", log.user.nunique())\n",
    "print (\"nb of songs:\", log.song.nunique())\n",
    "\n",
    "log.head(5)\n"
   ]
  },
  {
   "cell_type": "markdown",
   "metadata": {},
   "source": [
    "# on manipule le log pour le nettoyer?"
   ]
  },
  {
   "cell_type": "code",
   "execution_count": 24,
   "metadata": {},
   "outputs": [],
   "source": [
    "# on supprime la colonne 'timestamp' pour l'instant\n",
    "\n",
    "log.drop('timestamp', axis=1, inplace=True)"
   ]
  },
  {
   "cell_type": "code",
   "execution_count": 25,
   "metadata": {},
   "outputs": [
    {
     "data": {
      "text/html": [
       "<div>\n",
       "<style scoped>\n",
       "    .dataframe tbody tr th:only-of-type {\n",
       "        vertical-align: middle;\n",
       "    }\n",
       "\n",
       "    .dataframe tbody tr th {\n",
       "        vertical-align: top;\n",
       "    }\n",
       "\n",
       "    .dataframe thead th {\n",
       "        text-align: right;\n",
       "    }\n",
       "</style>\n",
       "<table border=\"1\" class=\"dataframe\">\n",
       "  <thead>\n",
       "    <tr style=\"text-align: right;\">\n",
       "      <th></th>\n",
       "      <th>user_id</th>\n",
       "      <th>song</th>\n",
       "      <th>song_count</th>\n",
       "    </tr>\n",
       "  </thead>\n",
       "  <tbody>\n",
       "    <tr>\n",
       "      <th>0</th>\n",
       "      <td>0</td>\n",
       "      <td>-1b82VmUjh0</td>\n",
       "      <td>6</td>\n",
       "    </tr>\n",
       "    <tr>\n",
       "      <th>1</th>\n",
       "      <td>0</td>\n",
       "      <td>-3j6W3IWzsk</td>\n",
       "      <td>4</td>\n",
       "    </tr>\n",
       "    <tr>\n",
       "      <th>2</th>\n",
       "      <td>0</td>\n",
       "      <td>-8P6U_80r7Y</td>\n",
       "      <td>2</td>\n",
       "    </tr>\n",
       "    <tr>\n",
       "      <th>3</th>\n",
       "      <td>0</td>\n",
       "      <td>-9jp7xgarT0</td>\n",
       "      <td>3</td>\n",
       "    </tr>\n",
       "    <tr>\n",
       "      <th>4</th>\n",
       "      <td>0</td>\n",
       "      <td>-BijuEGNfHU</td>\n",
       "      <td>11</td>\n",
       "    </tr>\n",
       "  </tbody>\n",
       "</table>\n",
       "</div>"
      ],
      "text/plain": [
       "   user_id         song  song_count\n",
       "0        0  -1b82VmUjh0           6\n",
       "1        0  -3j6W3IWzsk           4\n",
       "2        0  -8P6U_80r7Y           2\n",
       "3        0  -9jp7xgarT0           3\n",
       "4        0  -BijuEGNfHU          11"
      ]
     },
     "execution_count": 25,
     "metadata": {},
     "output_type": "execute_result"
    }
   ],
   "source": [
    "# use a groupby to produce the dataset in the form 'user - song - number of plays'\n",
    "\n",
    "flipped = pd.DataFrame(log.groupby ( ['user', 'song']).song.count ( )).add_suffix('_count').reset_index()\n",
    "flipped.rename(columns = {'user':'user_id'}, inplace = True)\n",
    "\n",
    "flipped.head(5)"
   ]
  },
  {
   "cell_type": "code",
   "execution_count": 26,
   "metadata": {},
   "outputs": [
    {
     "data": {
      "text/plain": [
       "631348"
      ]
     },
     "execution_count": 26,
     "metadata": {},
     "output_type": "execute_result"
    }
   ],
   "source": [
    "# Il n'y a que 631_348 chansons à vérifier -- pas 8 millions -- tant qu'on vérifie pour chaque chanson une fois\n",
    "\n",
    "len(flipped)             # flipped contient 8 million de lignes qui montre utilisateur-chanson-écouté combien de fois\n",
    "flipped.song.nunique()   # mais il n'y a que 630K chansons différentes dans tout ca"
   ]
  },
  {
   "cell_type": "code",
   "execution_count": 27,
   "metadata": {},
   "outputs": [
    {
     "data": {
      "text/plain": [
       "631348"
      ]
     },
     "execution_count": 27,
     "metadata": {},
     "output_type": "execute_result"
    }
   ],
   "source": [
    "# on crée une liste des chansons uniques\n",
    "song_list = flipped.song.unique()\n",
    "\n",
    "# on crée un df depuis cette liste\n",
    "checking = pd.DataFrame({'song':song_list})\n",
    "\n",
    "# on rajoute une colonne vide pour noter 'ok' ou 'manque'\n",
    "checking[\"link\"] = \"\"\n",
    "\n",
    "# on rajoute 'No' par défaut\n",
    "checking['link'] = 'No'\n",
    "\n",
    "# on regarde combien de lignes il y aura à vérifier\n",
    "len(checking)"
   ]
  },
  {
   "cell_type": "markdown",
   "metadata": {},
   "source": [
    "# Quand on nettoie par étapes on va parfois reprendre en important une version antérieure qui est 'mi-vérifié'"
   ]
  },
  {
   "cell_type": "code",
   "execution_count": 5,
   "metadata": {},
   "outputs": [
    {
     "data": {
      "text/html": [
       "<div>\n",
       "<style scoped>\n",
       "    .dataframe tbody tr th:only-of-type {\n",
       "        vertical-align: middle;\n",
       "    }\n",
       "\n",
       "    .dataframe tbody tr th {\n",
       "        vertical-align: top;\n",
       "    }\n",
       "\n",
       "    .dataframe thead th {\n",
       "        text-align: right;\n",
       "    }\n",
       "</style>\n",
       "<table border=\"1\" class=\"dataframe\">\n",
       "  <thead>\n",
       "    <tr style=\"text-align: right;\">\n",
       "      <th></th>\n",
       "      <th>song</th>\n",
       "      <th>link</th>\n",
       "    </tr>\n",
       "  </thead>\n",
       "  <tbody>\n",
       "    <tr>\n",
       "      <th>0</th>\n",
       "      <td>-1b82VmUjh0</td>\n",
       "      <td>yes</td>\n",
       "    </tr>\n",
       "    <tr>\n",
       "      <th>1</th>\n",
       "      <td>-3j6W3IWzsk</td>\n",
       "      <td>yes</td>\n",
       "    </tr>\n",
       "    <tr>\n",
       "      <th>2</th>\n",
       "      <td>-8P6U_80r7Y</td>\n",
       "      <td>yes</td>\n",
       "    </tr>\n",
       "    <tr>\n",
       "      <th>3</th>\n",
       "      <td>-9jp7xgarT0</td>\n",
       "      <td>yes</td>\n",
       "    </tr>\n",
       "    <tr>\n",
       "      <th>4</th>\n",
       "      <td>-BijuEGNfHU</td>\n",
       "      <td>yes</td>\n",
       "    </tr>\n",
       "  </tbody>\n",
       "</table>\n",
       "</div>"
      ],
      "text/plain": [
       "          song link\n",
       "0  -1b82VmUjh0  yes\n",
       "1  -3j6W3IWzsk  yes\n",
       "2  -8P6U_80r7Y  yes\n",
       "3  -9jp7xgarT0  yes\n",
       "4  -BijuEGNfHU  yes"
      ]
     },
     "execution_count": 5,
     "metadata": {},
     "output_type": "execute_result"
    }
   ],
   "source": [
    "# import an earlier incomplete version of the checking files that has already thousands of lines checked\n",
    "# virer une colonne de trop (ancien index) \n",
    "# montrer 5 premières lignes et vérifier que la première c'est bien \"-1b82VmUjh0\"\n",
    "\n",
    "checking = pd.read_csv('/Users/aidanairuser/Desktop/OPENWHYD/yt_log_checked_DONE_0_631047_0404.csv')\n",
    "checking.drop('Unnamed: 0', axis=1, inplace=True)\n",
    "checking.head(5)"
   ]
  },
  {
   "cell_type": "markdown",
   "metadata": {},
   "source": [
    "# On note 'Yes' chaque fois qu'un lien youtube rend les infos demandées"
   ]
  },
  {
   "cell_type": "code",
   "execution_count": 11,
   "metadata": {},
   "outputs": [
    {
     "name": "stdout",
     "output_type": "stream",
     "text": [
      "5 are ok of 5\n",
      "ran in 0.05510545174280802 minutes\n"
     ]
    },
    {
     "data": {
      "text/plain": [
       "0"
      ]
     },
     "execution_count": 11,
     "metadata": {},
     "output_type": "execute_result"
    }
   ],
   "source": [
    "# length of df to be checked is 631_348\n",
    "\n",
    "start_time = time.time()\n",
    "\n",
    "nb_ok = 0\n",
    "row_start = 80_765\n",
    "row_finish = 80_770\n",
    "rows_total = row_finish - row_start\n",
    "\n",
    "for row in range(row_start,row_finish):   \n",
    "    toon = checking.iat[row, 0]\n",
    "    yt = \"https://www.youtube.com/watch?v=\"\n",
    "    url = yt.strip() + toon.strip()\n",
    "    page = requests.get(url)\n",
    "    soup = bs (page.text, 'html.parser')\n",
    "\n",
    "    for item in soup.find_all('h1',{'class':'watch-title-container'}): \n",
    "        for post in item.find_all('span',{'class':'watch-title'}): \n",
    "            checking.iat[row, 1] = 'yes'     \n",
    "            nb_ok = nb_ok + 1\n",
    "            row = row + 1   \n",
    "            \n",
    "print (nb_ok, 'are ok of', rows_total)\n",
    "\n",
    "elapsed = ((time.time() - start_time)/60)\n",
    "print (\"ran in\", elapsed, \"minutes\")\n",
    "\n",
    "os.system('afplay /System/Library/Sounds/purr.aiff')\n",
    "os.system('afplay /System/Library/Sounds/submarine.aiff')\n"
   ]
  },
  {
   "cell_type": "code",
   "execution_count": 14,
   "metadata": {},
   "outputs": [
    {
     "data": {
      "text/html": [
       "<div>\n",
       "<style scoped>\n",
       "    .dataframe tbody tr th:only-of-type {\n",
       "        vertical-align: middle;\n",
       "    }\n",
       "\n",
       "    .dataframe tbody tr th {\n",
       "        vertical-align: top;\n",
       "    }\n",
       "\n",
       "    .dataframe thead th {\n",
       "        text-align: right;\n",
       "    }\n",
       "</style>\n",
       "<table border=\"1\" class=\"dataframe\">\n",
       "  <thead>\n",
       "    <tr style=\"text-align: right;\">\n",
       "      <th></th>\n",
       "      <th>song</th>\n",
       "      <th>link</th>\n",
       "    </tr>\n",
       "  </thead>\n",
       "  <tbody>\n",
       "    <tr>\n",
       "      <th>80765</th>\n",
       "      <td>29J2B2FIgt0</td>\n",
       "      <td>yes</td>\n",
       "    </tr>\n",
       "    <tr>\n",
       "      <th>80766</th>\n",
       "      <td>2ABNMRWr1Sg</td>\n",
       "      <td>yes</td>\n",
       "    </tr>\n",
       "    <tr>\n",
       "      <th>80767</th>\n",
       "      <td>2AYV5pmENJ4</td>\n",
       "      <td>yes</td>\n",
       "    </tr>\n",
       "    <tr>\n",
       "      <th>80768</th>\n",
       "      <td>2C-Ucxo1UHs</td>\n",
       "      <td>yes</td>\n",
       "    </tr>\n",
       "    <tr>\n",
       "      <th>80769</th>\n",
       "      <td>2C0OEVWKZv0</td>\n",
       "      <td>yes</td>\n",
       "    </tr>\n",
       "  </tbody>\n",
       "</table>\n",
       "</div>"
      ],
      "text/plain": [
       "              song link\n",
       "80765  29J2B2FIgt0  yes\n",
       "80766  2ABNMRWr1Sg  yes\n",
       "80767  2AYV5pmENJ4  yes\n",
       "80768  2C-Ucxo1UHs  yes\n",
       "80769  2C0OEVWKZv0  yes"
      ]
     },
     "execution_count": 14,
     "metadata": {},
     "output_type": "execute_result"
    }
   ],
   "source": [
    "# vérifier une trache de la df, une fois les lignes / links vérifiés\n",
    "\n",
    "checking.iloc[80_765:80_770,] \n"
   ]
  },
  {
   "cell_type": "code",
   "execution_count": 52,
   "metadata": {},
   "outputs": [],
   "source": [
    "# download the file with the 'Yes' burned on so we don't have to start from scratch next time we run this.\n",
    "\n",
    "checking.to_csv(\"yt_log_checked_0_631047_0404.csv\")\n"
   ]
  },
  {
   "cell_type": "markdown",
   "metadata": {},
   "source": [
    "# Clean up the original 0404 log using the 'checking' file that now lists all good / bad links"
   ]
  },
  {
   "cell_type": "code",
   "execution_count": 31,
   "metadata": {},
   "outputs": [],
   "source": [
    "# import the finished 'checking' file\n",
    "\n",
    "checking = pd.read_csv('/Users/aidanairuser/Desktop/OPENWHYD/yt_log_checked_DONE_0_631047_0404.csv')"
   ]
  },
  {
   "cell_type": "code",
   "execution_count": 50,
   "metadata": {},
   "outputs": [],
   "source": [
    "# CHECKING X LOG = CLEAN LOG\n",
    "\n",
    "# make a list of all the songs that have a dead link then build new df of 0404_log without dead links\n",
    "\n",
    "checking_neg_only = checking.drop(checking[checking.link == \"yes\"].index)  # df avec uniquement les lignes 'no' (liens morts)\n",
    "\n",
    "neg_list = checking_neg_only[\"song\"].tolist()  # créer une liste depuis ce df des liens morts\n",
    "\n",
    "clean = log[~log.song.isin(neg_list)]  # créer df avec que les chansons qui ne sont pas dans la liste de liens morts\n",
    "\n",
    "# clean_df = pd.DataFrame(clean.drop('timestamp', axis=1))  # virer la colonne 'timestamp' OPTIONAL "
   ]
  },
  {
   "cell_type": "code",
   "execution_count": 54,
   "metadata": {},
   "outputs": [],
   "source": [
    "# MAINTENANT exporter le log 0404 propre\n",
    "\n",
    "clean.to_csv(\"0404_log_clean.csv\")"
   ]
  },
  {
   "cell_type": "code",
   "execution_count": 57,
   "metadata": {},
   "outputs": [
    {
     "name": "stdout",
     "output_type": "stream",
     "text": [
      "* REGISTER OF GOOD BAD LINKS OUT OF THE 600K SONGS\n",
      "631348\n",
      "14296361\n",
      "* ORIGINAL 0404 LOG\n",
      "25739537\n",
      "725392726\n",
      "* CLEAN 0404 LOG\n",
      "22185155\n",
      "815876501\n"
     ]
    }
   ],
   "source": [
    "# comparer\n",
    "\n",
    "import os\n",
    "\n",
    "\n",
    "print ('* REGISTER OF GOOD BAD LINKS OUT OF THE 600K SONGS')\n",
    "print (len(checking))\n",
    "print (os.path.getsize('/Users/aidanairuser/Desktop/OPENWHYD/yt_log_checked_DONE_0_631047_0404.csv'))\n",
    "\n",
    "print ('* ORIGINAL 0404 LOG')\n",
    "print (len(log))\n",
    "print (os.path.getsize('/Users/aidanairuser/Desktop/OPENWHYD/yt_playlog_0404.csv'))\n",
    "\n",
    "print ('* CLEAN 0404 LOG')\n",
    "print (len(clean))\n",
    "print (os.path.getsize('/Users/aidanairuser/Desktop/OPENWHYD/0404_log_clean.csv'))"
   ]
  },
  {
   "cell_type": "markdown",
   "metadata": {},
   "source": [
    "# On revient si on trouve un souci avec un lien en travaillant avec le nouveau df propre"
   ]
  },
  {
   "cell_type": "markdown",
   "metadata": {},
   "source": [
    "https://www.youtube.com/watch?v=2C0OEVWKZv0\n",
    "    \n",
    "this came from the clean df -- the link shouldn't be dead   "
   ]
  },
  {
   "cell_type": "code",
   "execution_count": 15,
   "metadata": {},
   "outputs": [
    {
     "data": {
      "text/html": [
       "<div>\n",
       "<style scoped>\n",
       "    .dataframe tbody tr th:only-of-type {\n",
       "        vertical-align: middle;\n",
       "    }\n",
       "\n",
       "    .dataframe tbody tr th {\n",
       "        vertical-align: top;\n",
       "    }\n",
       "\n",
       "    .dataframe thead th {\n",
       "        text-align: right;\n",
       "    }\n",
       "</style>\n",
       "<table border=\"1\" class=\"dataframe\">\n",
       "  <thead>\n",
       "    <tr style=\"text-align: right;\">\n",
       "      <th></th>\n",
       "      <th>song</th>\n",
       "      <th>link</th>\n",
       "    </tr>\n",
       "  </thead>\n",
       "  <tbody>\n",
       "    <tr>\n",
       "      <th>0</th>\n",
       "      <td>-1b82VmUjh0</td>\n",
       "      <td>yes</td>\n",
       "    </tr>\n",
       "    <tr>\n",
       "      <th>1</th>\n",
       "      <td>-3j6W3IWzsk</td>\n",
       "      <td>yes</td>\n",
       "    </tr>\n",
       "    <tr>\n",
       "      <th>2</th>\n",
       "      <td>-8P6U_80r7Y</td>\n",
       "      <td>yes</td>\n",
       "    </tr>\n",
       "    <tr>\n",
       "      <th>3</th>\n",
       "      <td>-9jp7xgarT0</td>\n",
       "      <td>yes</td>\n",
       "    </tr>\n",
       "    <tr>\n",
       "      <th>4</th>\n",
       "      <td>-BijuEGNfHU</td>\n",
       "      <td>yes</td>\n",
       "    </tr>\n",
       "  </tbody>\n",
       "</table>\n",
       "</div>"
      ],
      "text/plain": [
       "          song link\n",
       "0  -1b82VmUjh0  yes\n",
       "1  -3j6W3IWzsk  yes\n",
       "2  -8P6U_80r7Y  yes\n",
       "3  -9jp7xgarT0  yes\n",
       "4  -BijuEGNfHU  yes"
      ]
     },
     "execution_count": 15,
     "metadata": {},
     "output_type": "execute_result"
    }
   ],
   "source": [
    "checking = pd.read_csv('/Users/aidanairuser/Desktop/OPENWHYD/yt_log_checked_DONE_0_631047_0404.csv')\n",
    "checking.drop('Unnamed: 0', axis=1, inplace=True)\n",
    "checking.head(5)"
   ]
  },
  {
   "cell_type": "code",
   "execution_count": 8,
   "metadata": {},
   "outputs": [
    {
     "data": {
      "text/html": [
       "<div>\n",
       "<style scoped>\n",
       "    .dataframe tbody tr th:only-of-type {\n",
       "        vertical-align: middle;\n",
       "    }\n",
       "\n",
       "    .dataframe tbody tr th {\n",
       "        vertical-align: top;\n",
       "    }\n",
       "\n",
       "    .dataframe thead th {\n",
       "        text-align: right;\n",
       "    }\n",
       "</style>\n",
       "<table border=\"1\" class=\"dataframe\">\n",
       "  <thead>\n",
       "    <tr style=\"text-align: right;\">\n",
       "      <th></th>\n",
       "      <th>song</th>\n",
       "      <th>link</th>\n",
       "    </tr>\n",
       "  </thead>\n",
       "  <tbody>\n",
       "    <tr>\n",
       "      <th>80769</th>\n",
       "      <td>2C0OEVWKZv0</td>\n",
       "      <td>yes</td>\n",
       "    </tr>\n",
       "  </tbody>\n",
       "</table>\n",
       "</div>"
      ],
      "text/plain": [
       "              song link\n",
       "80769  2C0OEVWKZv0  yes"
      ]
     },
     "execution_count": 8,
     "metadata": {},
     "output_type": "execute_result"
    }
   ],
   "source": [
    "# on vérifie pour ce lien - la liste des bon liens dit qu'il est bon\n",
    "\n",
    "checking[checking.song == \"2C0OEVWKZv0\"]"
   ]
  },
  {
   "cell_type": "code",
   "execution_count": 16,
   "metadata": {},
   "outputs": [
    {
     "data": {
      "text/html": [
       "<div>\n",
       "<style scoped>\n",
       "    .dataframe tbody tr th:only-of-type {\n",
       "        vertical-align: middle;\n",
       "    }\n",
       "\n",
       "    .dataframe tbody tr th {\n",
       "        vertical-align: top;\n",
       "    }\n",
       "\n",
       "    .dataframe thead th {\n",
       "        text-align: right;\n",
       "    }\n",
       "</style>\n",
       "<table border=\"1\" class=\"dataframe\">\n",
       "  <thead>\n",
       "    <tr style=\"text-align: right;\">\n",
       "      <th></th>\n",
       "      <th>song</th>\n",
       "      <th>link</th>\n",
       "    </tr>\n",
       "  </thead>\n",
       "  <tbody>\n",
       "    <tr>\n",
       "      <th>80769</th>\n",
       "      <td>2C0OEVWKZv0</td>\n",
       "      <td>yes</td>\n",
       "    </tr>\n",
       "  </tbody>\n",
       "</table>\n",
       "</div>"
      ],
      "text/plain": [
       "              song link\n",
       "80769  2C0OEVWKZv0  yes"
      ]
     },
     "execution_count": 16,
     "metadata": {},
     "output_type": "execute_result"
    }
   ],
   "source": [
    "checking[checking.song == \"2C0OEVWKZv0\"]"
   ]
  },
  {
   "cell_type": "markdown",
   "metadata": {},
   "source": [
    "# EXPLICATION: le lien n'est pas 'mort' où on n'a aucune info sur le clip. En fait, il est juste 'pas accessible dans mon pays'. Surtout la page du clip fournit un groupe et un titre. Et donc notre fonction a rendu 'Yes' au lieu de 'Non' (et c'est peut-être mieux si le lien est effectivement vivant quand on ira en Italie par exemple)"
   ]
  },
  {
   "cell_type": "code",
   "execution_count": null,
   "metadata": {},
   "outputs": [],
   "source": []
  },
  {
   "cell_type": "code",
   "execution_count": null,
   "metadata": {},
   "outputs": [],
   "source": [
    "\n",
    "# LOG OF TIME SPENT (usually a rate of 10 hours for 100K) and nb lost (about a sixth)\n",
    "\n",
    "# 0 - 30_000: 25750 are ok of 30000 / ran in 305.8400292476018 minutes - 100 rows a minute\n",
    "# 30_000 - 45_000: 12426 are ok of 15000 / ran in 153.5392414490382 minutes - 100 rows a minute\n",
    "# 45_000 - 60_000: 12815 are ok of 15000 / ran in 150.01641809940338 minutes\n",
    "# 60_000 - 70_000: 8564 are ok of 10000 / ran in 97.89230124553045 minutes\n",
    "# 70_000 - 80_000: 8176 are ok of 10000 / ran in 93.95360571543375 minutes\n",
    "# 80_000 - 90_000: 8281 are ok of 10000 / ran in 119.0353542526563 minutes\n",
    "# 90_000 - 110_000: 16502 are ok of 20000 / ran in 210.82278453509014 minutes\n",
    "# 110_00- 130_000: 16515 are ok of 20000 / ran in 211.21969944636027 minutes\n",
    "# 130 to 170 : 32245 are ok of 40000 / ran in 395.40184058348336 minutes\n",
    "# 170 to 200 : 24438 are ok of 30000 / ran in 298.89787494738897 minutes\n",
    "# 200 to 210 : 8213 are ok of 10000 / ran in 107.48892344633738 minutes\n",
    "# ran 210 to 220 in parts\n",
    "# 220 to 225: 3922 are ok of 5000 / ran in 47.93766736984253 minutes\n",
    "# 225 to 230: 3970 are ok of 5000 / ran in 49.198327732086184 minutes\n",
    "# 230 to 240: 8369 are ok of 10000 / ran in 100.20720508098603 minutes\n",
    "# 240 to 260: 17260 are ok of 20000 / ran in 207.02818228403729 minutes\n",
    "# 260 to 280: 17438 are ok of 20000 / ran in 215.76910527944565 minutes\n",
    "# 285 to 320: 30500 are ok of 35000 / ran in 342.78767923116686 minutes\n",
    "# 320 to 340: 16298 are ok of 20000 / ran in 194.8126765847206 minutes\n",
    "# 340 to 370: 24327 are ok of 30000 / ran in 301.23866998354595 minutes\n",
    "# 370 to 400 : 24062 are ok of 30000 / ran in 312.1866168141365 minutes\n",
    "# 400 to 410: 7960 are ok of 10000 / ran in 96.79436396360397 minutes\n",
    "# 410 to 440: 23797 are ok of 30000 / ran in 286.8092731197675 minutes\n",
    "# 440 to 455 : 11926 are ok of 15000 / ran in 143.93594185113906 minutes\n",
    "# 455 to 475 : 15889 are ok of 20000 / ran in 195.29008544683455 minutes\n",
    "# 475 - 490: 11903 are ok of 15000 / ran in 140.14434896707536 minutes\n",
    "# 490 - 500\n",
    "# 500 - 520 : 16027 are ok of 20000 / ran in 190.24522956609727 minutes\n",
    "# 520 - 540 : 16067 are ok of 20000 / ran in 208.85930556853612 minutes\n",
    "# 540 - 570: 23401 are ok of 30000 / ran in 274.56876204808555 minutes\n",
    "# 570 - 590 : 16037 are ok of 20000 / ran in 182.28820083141326 minutes\n",
    "# 590 - 600 : 8016 are ok of 10000 / ran in 95.35403951009114 minutes\n",
    "# 600 - 630: 25182 are ok of 30000 / ran in 307.33169128894804 minutes"
   ]
  }
 ],
 "metadata": {
  "kernelspec": {
   "display_name": "Python 3",
   "language": "python",
   "name": "python3"
  },
  "language_info": {
   "codemirror_mode": {
    "name": "ipython",
    "version": 3
   },
   "file_extension": ".py",
   "mimetype": "text/x-python",
   "name": "python",
   "nbconvert_exporter": "python",
   "pygments_lexer": "ipython3",
   "version": "3.7.3"
  }
 },
 "nbformat": 4,
 "nbformat_minor": 2
}
