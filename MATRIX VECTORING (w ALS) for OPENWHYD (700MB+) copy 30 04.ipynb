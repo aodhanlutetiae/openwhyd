{
 "cells": [
  {
   "cell_type": "markdown",
   "metadata": {},
   "source": [
    "### Résumé\n",
    "\n",
    "Le log a environ 25 million données sur cinq ans - feb 2014 à avril 2019. Il s'agit d'environ\n",
    "45K utilisateurs et 630K chansons. La procédure détaillé ci-dessous peut se résumer à:\n",
    "\n",
    "- virer la colonne timestamp\n",
    "- faire un 'groupby' pour générer un tableau qui donne des lignes de chanson-utilisateur-nombre_d'écoutes\n",
    "- identifier et virer les liens morts\n",
    "- remanier le tableau en deux matrices utilisateur-chanson et chanson-utilisateur\n",
    "- paramètrer un modèle ALS en utilisant 'Implicit'\n",
    "- demander des chansons 'semblables' \n",
    "- demander ensuite des 'chansons qui plairaient' à un utilisateur précis"
   ]
  },
  {
   "cell_type": "markdown",
   "metadata": {},
   "source": [
    "## Résultat: on fournit un numéro d'utilisateur, et un nombre n, on reçoit n nombre de recommendations\n",
    "\n",
    "Exemple: utilisateur 40, 5 chansons demandées\n",
    "\n",
    "Exotica - Control Freak (Clip officiel)\n",
    "https://www.youtube.com/watch?v=98IslatTiws\n",
    "\n",
    "Major Lazer - Aerosol Can ft. Pharrell Williams\n",
    "https://www.youtube.com/watch?v=pzZK4al4dvA\n",
    "\n",
    "Ron Trent - You'll Never Find [preview]\n",
    "https://www.youtube.com/watch?v=fD_Wl-_Dvts\n",
    "\n",
    "Parra for Cuva - Swept Away (feat. Anna Naklab & Mr. Gramo)\n",
    "https://www.youtube.com/watch?v=HpSCv8BjYzM\n",
    "\n",
    "Phantogram \"When I'm Small\"\n",
    "https://www.youtube.com/watch?v=28tZ-S1LFok\n"
   ]
  },
  {
   "cell_type": "markdown",
   "metadata": {},
   "source": [
    "### imports et remanier le log pour qu'il soit au bon format"
   ]
  },
  {
   "cell_type": "code",
   "execution_count": 1,
   "metadata": {},
   "outputs": [],
   "source": [
    "# wrangling\n",
    "import pandas as pd\n",
    "\n",
    "# creating the csr matrices\n",
    "import scipy.sparse as sparse \n",
    "from scipy.sparse.linalg import spsolve\n",
    "\n",
    "# creating the ALS model\n",
    "import implicit \n",
    "import numpy as np\n",
    "\n",
    "# running the final 'find user' stage\n",
    "from sklearn.preprocessing import MinMaxScaler\n",
    "\n",
    "# scraping full song information from youtube\n",
    "import requests # for scraping title from yt site\n",
    "from bs4 import BeautifulSoup as bs # for retrieving info on the tracks from the youtube website.\n",
    "\n",
    "# time the dead link checking function\n",
    "import time\n",
    "\n",
    "# play a sound when the function finishes\n",
    "import os\n"
   ]
  },
  {
   "cell_type": "code",
   "execution_count": 2,
   "metadata": {},
   "outputs": [],
   "source": [
    "# importer le log (725 MB): \n",
    "\n",
    "open_sample = pd.read_csv('.CSV FILE LOCATION')\n"
   ]
  },
  {
   "cell_type": "code",
   "execution_count": 3,
   "metadata": {},
   "outputs": [
    {
     "name": "stdout",
     "output_type": "stream",
     "text": [
      "(25739537, 3)\n",
      "nb of users: 45904\n",
      "nb of songs: 631348\n"
     ]
    },
    {
     "data": {
      "text/html": [
       "<div>\n",
       "<style scoped>\n",
       "    .dataframe tbody tr th:only-of-type {\n",
       "        vertical-align: middle;\n",
       "    }\n",
       "\n",
       "    .dataframe tbody tr th {\n",
       "        vertical-align: top;\n",
       "    }\n",
       "\n",
       "    .dataframe thead th {\n",
       "        text-align: right;\n",
       "    }\n",
       "</style>\n",
       "<table border=\"1\" class=\"dataframe\">\n",
       "  <thead>\n",
       "    <tr style=\"text-align: right;\">\n",
       "      <th></th>\n",
       "      <th>timestamp</th>\n",
       "      <th>user</th>\n",
       "      <th>song</th>\n",
       "    </tr>\n",
       "  </thead>\n",
       "  <tbody>\n",
       "    <tr>\n",
       "      <th>0</th>\n",
       "      <td>1392387533</td>\n",
       "      <td>0</td>\n",
       "      <td>t1l8Z6gLPzo</td>\n",
       "    </tr>\n",
       "    <tr>\n",
       "      <th>1</th>\n",
       "      <td>1392387538</td>\n",
       "      <td>1</td>\n",
       "      <td>t1l8Z6gLPzo</td>\n",
       "    </tr>\n",
       "    <tr>\n",
       "      <th>2</th>\n",
       "      <td>1392387556</td>\n",
       "      <td>2</td>\n",
       "      <td>t1l8Z6gLPzo</td>\n",
       "    </tr>\n",
       "    <tr>\n",
       "      <th>3</th>\n",
       "      <td>1392387561</td>\n",
       "      <td>3</td>\n",
       "      <td>we5gzZq5Avg</td>\n",
       "    </tr>\n",
       "    <tr>\n",
       "      <th>4</th>\n",
       "      <td>1392387566</td>\n",
       "      <td>4</td>\n",
       "      <td>we5gzZq5Avg</td>\n",
       "    </tr>\n",
       "  </tbody>\n",
       "</table>\n",
       "</div>"
      ],
      "text/plain": [
       "    timestamp  user         song\n",
       "0  1392387533     0  t1l8Z6gLPzo\n",
       "1  1392387538     1  t1l8Z6gLPzo\n",
       "2  1392387556     2  t1l8Z6gLPzo\n",
       "3  1392387561     3  we5gzZq5Avg\n",
       "4  1392387566     4  we5gzZq5Avg"
      ]
     },
     "execution_count": 3,
     "metadata": {},
     "output_type": "execute_result"
    }
   ],
   "source": [
    "# Regarder la forme, et la taille - les lignes sont par ordre chronologique (timestamp), non pas par utilisateur\n",
    "\n",
    "print (open_sample.shape)\n",
    "print (\"nb of users:\", open_sample.user.nunique())\n",
    "print (\"nb of songs:\", open_sample.song.nunique())\n",
    "\n",
    "open_sample.head(5)\n"
   ]
  },
  {
   "cell_type": "code",
   "execution_count": 4,
   "metadata": {},
   "outputs": [],
   "source": [
    "# On supprime la colonne 'timestamp' pour l'instant\n",
    "\n",
    "open_sample.drop('timestamp', axis=1, inplace=True)"
   ]
  },
  {
   "cell_type": "code",
   "execution_count": 5,
   "metadata": {},
   "outputs": [
    {
     "name": "stdout",
     "output_type": "stream",
     "text": [
      "(8741735, 3)\n",
      "nb of users: 45904\n",
      "nb of diff songs: 631348\n"
     ]
    },
    {
     "data": {
      "text/html": [
       "<div>\n",
       "<style scoped>\n",
       "    .dataframe tbody tr th:only-of-type {\n",
       "        vertical-align: middle;\n",
       "    }\n",
       "\n",
       "    .dataframe tbody tr th {\n",
       "        vertical-align: top;\n",
       "    }\n",
       "\n",
       "    .dataframe thead th {\n",
       "        text-align: right;\n",
       "    }\n",
       "</style>\n",
       "<table border=\"1\" class=\"dataframe\">\n",
       "  <thead>\n",
       "    <tr style=\"text-align: right;\">\n",
       "      <th></th>\n",
       "      <th>user_id</th>\n",
       "      <th>song</th>\n",
       "      <th>song_count</th>\n",
       "    </tr>\n",
       "  </thead>\n",
       "  <tbody>\n",
       "    <tr>\n",
       "      <th>0</th>\n",
       "      <td>0</td>\n",
       "      <td>-1b82VmUjh0</td>\n",
       "      <td>6</td>\n",
       "    </tr>\n",
       "    <tr>\n",
       "      <th>1</th>\n",
       "      <td>0</td>\n",
       "      <td>-3j6W3IWzsk</td>\n",
       "      <td>4</td>\n",
       "    </tr>\n",
       "    <tr>\n",
       "      <th>2</th>\n",
       "      <td>0</td>\n",
       "      <td>-8P6U_80r7Y</td>\n",
       "      <td>2</td>\n",
       "    </tr>\n",
       "    <tr>\n",
       "      <th>3</th>\n",
       "      <td>0</td>\n",
       "      <td>-9jp7xgarT0</td>\n",
       "      <td>3</td>\n",
       "    </tr>\n",
       "    <tr>\n",
       "      <th>4</th>\n",
       "      <td>0</td>\n",
       "      <td>-BijuEGNfHU</td>\n",
       "      <td>11</td>\n",
       "    </tr>\n",
       "    <tr>\n",
       "      <th>5</th>\n",
       "      <td>0</td>\n",
       "      <td>-ICsoINapqs</td>\n",
       "      <td>1</td>\n",
       "    </tr>\n",
       "    <tr>\n",
       "      <th>6</th>\n",
       "      <td>0</td>\n",
       "      <td>-MNF9T9pSw0</td>\n",
       "      <td>1</td>\n",
       "    </tr>\n",
       "    <tr>\n",
       "      <th>7</th>\n",
       "      <td>0</td>\n",
       "      <td>-WRkHLAmbOw</td>\n",
       "      <td>9</td>\n",
       "    </tr>\n",
       "    <tr>\n",
       "      <th>8</th>\n",
       "      <td>0</td>\n",
       "      <td>-_3mNCaJgNM</td>\n",
       "      <td>3</td>\n",
       "    </tr>\n",
       "    <tr>\n",
       "      <th>9</th>\n",
       "      <td>0</td>\n",
       "      <td>-co9IfGNDjA</td>\n",
       "      <td>3</td>\n",
       "    </tr>\n",
       "  </tbody>\n",
       "</table>\n",
       "</div>"
      ],
      "text/plain": [
       "   user_id         song  song_count\n",
       "0        0  -1b82VmUjh0           6\n",
       "1        0  -3j6W3IWzsk           4\n",
       "2        0  -8P6U_80r7Y           2\n",
       "3        0  -9jp7xgarT0           3\n",
       "4        0  -BijuEGNfHU          11\n",
       "5        0  -ICsoINapqs           1\n",
       "6        0  -MNF9T9pSw0           1\n",
       "7        0  -WRkHLAmbOw           9\n",
       "8        0  -_3mNCaJgNM           3\n",
       "9        0  -co9IfGNDjA           3"
      ]
     },
     "execution_count": 5,
     "metadata": {},
     "output_type": "execute_result"
    }
   ],
   "source": [
    "# avec un groupby on remanie le df en 'user - song - number of plays'\n",
    "\n",
    "flipped = pd.DataFrame(open_sample.groupby ( ['user', 'song']).song.count ( )).add_suffix('_count').reset_index()\n",
    "\n",
    "flipped.rename(columns = {'user':'user_id'}, inplace = True)\n",
    "\n",
    "print (flipped.shape)\n",
    "print (\"nb of users:\", flipped.user_id.nunique())\n",
    "print (\"nb of diff songs:\", flipped.song.nunique())\n",
    "\n",
    "flipped.head(10)"
   ]
  },
  {
   "cell_type": "markdown",
   "metadata": {},
   "source": [
    "## function to clean out dead links"
   ]
  },
  {
   "cell_type": "code",
   "execution_count": 6,
   "metadata": {},
   "outputs": [
    {
     "data": {
      "text/plain": [
       "631348"
      ]
     },
     "execution_count": 6,
     "metadata": {},
     "output_type": "execute_result"
    }
   ],
   "source": [
    "# Il n'y a que 631_348 chansons à vérifier -- non pas 8 millions -- tant qu'on vérifie pour les chansons 'uniques'\n",
    "\n",
    "flipped.song.nunique()"
   ]
  },
  {
   "cell_type": "code",
   "execution_count": 7,
   "metadata": {},
   "outputs": [
    {
     "data": {
      "text/plain": [
       "631348"
      ]
     },
     "execution_count": 7,
     "metadata": {},
     "output_type": "execute_result"
    }
   ],
   "source": [
    "# on crée une liste des chansons uniques\n",
    "song_list = flipped.song.unique()\n",
    "\n",
    "# on crée un df depuis cette liste\n",
    "checking = pd.DataFrame({'song':song_list})\n",
    "\n",
    "# on rajoute une colonne vide pour noter 'ok' ou 'manque'\n",
    "checking[\"link\"] = \"\"\n",
    "\n",
    "# on rajoute 'No' par défaut\n",
    "checking['link'] = 'No'\n",
    "\n",
    "len(checking)\n",
    "\n",
    "# On a maintenant un df ou chaque chanson paraît une fois, avec 'No' indiqué dans la case 'lien fiable'"
   ]
  },
  {
   "cell_type": "markdown",
   "metadata": {},
   "source": [
    "## reprendre avec une version antérieure qui est 'mi-vérifié'"
   ]
  },
  {
   "cell_type": "code",
   "execution_count": 8,
   "metadata": {},
   "outputs": [
    {
     "data": {
      "text/html": [
       "<div>\n",
       "<style scoped>\n",
       "    .dataframe tbody tr th:only-of-type {\n",
       "        vertical-align: middle;\n",
       "    }\n",
       "\n",
       "    .dataframe tbody tr th {\n",
       "        vertical-align: top;\n",
       "    }\n",
       "\n",
       "    .dataframe thead th {\n",
       "        text-align: right;\n",
       "    }\n",
       "</style>\n",
       "<table border=\"1\" class=\"dataframe\">\n",
       "  <thead>\n",
       "    <tr style=\"text-align: right;\">\n",
       "      <th></th>\n",
       "      <th>song</th>\n",
       "      <th>link</th>\n",
       "    </tr>\n",
       "  </thead>\n",
       "  <tbody>\n",
       "    <tr>\n",
       "      <th>0</th>\n",
       "      <td>-1b82VmUjh0</td>\n",
       "      <td>yes</td>\n",
       "    </tr>\n",
       "    <tr>\n",
       "      <th>1</th>\n",
       "      <td>-3j6W3IWzsk</td>\n",
       "      <td>yes</td>\n",
       "    </tr>\n",
       "    <tr>\n",
       "      <th>2</th>\n",
       "      <td>-8P6U_80r7Y</td>\n",
       "      <td>yes</td>\n",
       "    </tr>\n",
       "    <tr>\n",
       "      <th>3</th>\n",
       "      <td>-9jp7xgarT0</td>\n",
       "      <td>yes</td>\n",
       "    </tr>\n",
       "    <tr>\n",
       "      <th>4</th>\n",
       "      <td>-BijuEGNfHU</td>\n",
       "      <td>yes</td>\n",
       "    </tr>\n",
       "  </tbody>\n",
       "</table>\n",
       "</div>"
      ],
      "text/plain": [
       "          song link\n",
       "0  -1b82VmUjh0  yes\n",
       "1  -3j6W3IWzsk  yes\n",
       "2  -8P6U_80r7Y  yes\n",
       "3  -9jp7xgarT0  yes\n",
       "4  -BijuEGNfHU  yes"
      ]
     },
     "execution_count": 8,
     "metadata": {},
     "output_type": "execute_result"
    }
   ],
   "source": [
    "# Comme on nettoie le df en parties, parfois on reprend là où on s'était arrêté en important un df qu'on a déjà\n",
    "# nettoyé en partie.\n",
    "\n",
    "checking = pd.read_csv('.CSV FILE LOCATION')\n",
    "checking.drop('Unnamed: 0', axis=1, inplace=True)\n",
    "checking.head(5)"
   ]
  },
  {
   "cell_type": "code",
   "execution_count": null,
   "metadata": {},
   "outputs": [],
   "source": [
    "# Ici, on prend chaque ligne, on vérifie si le lien youtube est bon, on note, on continue. Dans son état ci-dessous\n",
    "# on vérifie pour les lignes 210K à 220K.\n",
    "\n",
    "start_time = time.time()\n",
    "\n",
    "nb_ok = 0\n",
    "row_start = 210_000\n",
    "row_finish = 220_000\n",
    "rows_total = row_finish - row_start\n",
    "\n",
    "for row in range(row_start,row_finish):   \n",
    "    toon = checking.iat[row, 0]\n",
    "    yt = \"https://www.youtube.com/watch?v=\"\n",
    "    url = yt.strip() + toon.strip()\n",
    "    page = requests.get(url)\n",
    "    soup = bs (page.text, 'html.parser')\n",
    "\n",
    "    for item in soup.find_all('h1',{'class':'watch-title-container'}): \n",
    "        for post in item.find_all('span',{'class':'watch-title'}): \n",
    "            checking.iat[row, 1] = 'yes'     \n",
    "            nb_ok = nb_ok + 1\n",
    "            row = row + 1   \n",
    "            \n",
    "print (nb_ok, 'are ok of', rows_total)\n",
    "\n",
    "elapsed = ((time.time() - start_time)/60)\n",
    "print (\"ran in\", elapsed, \"minutes\")\n",
    "\n",
    "os.system('afplay /System/Library/Sounds/purr.aiff')\n",
    "os.system('afplay /System/Library/Sounds/submarine.aiff')\n",
    "\n",
    "# LOG OF TIME SPENT (usually a rate of 10 hours for 100K) and nb lost (about a sixth)\n",
    "\n",
    "# 0 - 30_000: 25750 are ok of 30000 / ran in 305.8400292476018 minutes - 100 rows a minute\n",
    "# 30_000 - 45_000: 12426 are ok of 15000 / ran in 153.5392414490382 minutes - 100 rows a minute\n",
    "# 45_000 - 60_000: 12815 are ok of 15000 / ran in 150.01641809940338 minutes\n",
    "# 60_000 - 70_000: 8564 are ok of 10000 / ran in 97.89230124553045 minutes\n",
    "# 70_000 - 80_000: 8176 are ok of 10000 / ran in 93.95360571543375 minutes\n",
    "# 80_000 - 90_000: 8281 are ok of 10000 / ran in 119.0353542526563 minutes\n",
    "# 90_000 - 110_000: 16502 are ok of 20000 / ran in 210.82278453509014 minutes\n",
    "# 110_00- 130_000: 16515 are ok of 20000 / ran in 211.21969944636027 minutes\n",
    "# 130 to 170 : 32245 are ok of 40000 / ran in 395.40184058348336 minutes\n",
    "# 170 to 200 : 24438 are ok of 30000 / ran in 298.89787494738897 minutes\n",
    "# 200 to 210 : 8213 are ok of 10000 / ran in 107.48892344633738 minutes\n",
    "# started 210K at 8.51"
   ]
  },
  {
   "cell_type": "code",
   "execution_count": 10,
   "metadata": {},
   "outputs": [
    {
     "data": {
      "text/html": [
       "<div>\n",
       "<style scoped>\n",
       "    .dataframe tbody tr th:only-of-type {\n",
       "        vertical-align: middle;\n",
       "    }\n",
       "\n",
       "    .dataframe tbody tr th {\n",
       "        vertical-align: top;\n",
       "    }\n",
       "\n",
       "    .dataframe thead th {\n",
       "        text-align: right;\n",
       "    }\n",
       "</style>\n",
       "<table border=\"1\" class=\"dataframe\">\n",
       "  <thead>\n",
       "    <tr style=\"text-align: right;\">\n",
       "      <th></th>\n",
       "      <th>song</th>\n",
       "      <th>link</th>\n",
       "    </tr>\n",
       "  </thead>\n",
       "  <tbody>\n",
       "    <tr>\n",
       "      <th>209995</th>\n",
       "      <td>j0QhSnNDU5I</td>\n",
       "      <td>yes</td>\n",
       "    </tr>\n",
       "    <tr>\n",
       "      <th>209996</th>\n",
       "      <td>j2prFdt5K4w</td>\n",
       "      <td>No</td>\n",
       "    </tr>\n",
       "    <tr>\n",
       "      <th>209997</th>\n",
       "      <td>j3aprKDaSTg</td>\n",
       "      <td>yes</td>\n",
       "    </tr>\n",
       "    <tr>\n",
       "      <th>209998</th>\n",
       "      <td>jAZszTlmyxw</td>\n",
       "      <td>No</td>\n",
       "    </tr>\n",
       "    <tr>\n",
       "      <th>209999</th>\n",
       "      <td>jE2bus2VLdQ</td>\n",
       "      <td>yes</td>\n",
       "    </tr>\n",
       "    <tr>\n",
       "      <th>210000</th>\n",
       "      <td>jFm7PT_Nnqw</td>\n",
       "      <td>No</td>\n",
       "    </tr>\n",
       "    <tr>\n",
       "      <th>210001</th>\n",
       "      <td>jHcQaYkxTvA</td>\n",
       "      <td>No</td>\n",
       "    </tr>\n",
       "    <tr>\n",
       "      <th>210002</th>\n",
       "      <td>jJ8JveqNqtc</td>\n",
       "      <td>No</td>\n",
       "    </tr>\n",
       "    <tr>\n",
       "      <th>210003</th>\n",
       "      <td>jNjQICmRvlc</td>\n",
       "      <td>No</td>\n",
       "    </tr>\n",
       "    <tr>\n",
       "      <th>210004</th>\n",
       "      <td>jPCrvxhPIXE</td>\n",
       "      <td>No</td>\n",
       "    </tr>\n",
       "  </tbody>\n",
       "</table>\n",
       "</div>"
      ],
      "text/plain": [
       "               song link\n",
       "209995  j0QhSnNDU5I  yes\n",
       "209996  j2prFdt5K4w   No\n",
       "209997  j3aprKDaSTg  yes\n",
       "209998  jAZszTlmyxw   No\n",
       "209999  jE2bus2VLdQ  yes\n",
       "210000  jFm7PT_Nnqw   No\n",
       "210001  jHcQaYkxTvA   No\n",
       "210002  jJ8JveqNqtc   No\n",
       "210003  jNjQICmRvlc   No\n",
       "210004  jPCrvxhPIXE   No"
      ]
     },
     "execution_count": 10,
     "metadata": {},
     "output_type": "execute_result"
    }
   ],
   "source": [
    "# vérifier une trache de la df (là où ca passe de 'vérifié' à 'non vérifié', une fois les lignes / links vérifiés\n",
    "\n",
    "checking.iloc[209_995:210_005,] \n"
   ]
  },
  {
   "cell_type": "code",
   "execution_count": 12,
   "metadata": {},
   "outputs": [],
   "source": [
    "# téléchanger un fichier avec ce qu'on a vérifié jusqu'à là (histoire de ne pas recommencer du début la prochaine fois)\n",
    "\n",
    "checking.to_csv(\"yt_log_checked_0_to_210K_0404.csv\")\n"
   ]
  },
  {
   "cell_type": "code",
   "execution_count": null,
   "metadata": {},
   "outputs": [],
   "source": []
  },
  {
   "cell_type": "markdown",
   "metadata": {},
   "source": [
    "## reprendre avec fichier propre (ici c'est toujours avec liens morts pour l'instant)"
   ]
  },
  {
   "cell_type": "code",
   "execution_count": 11,
   "metadata": {},
   "outputs": [
    {
     "data": {
      "text/html": [
       "<div>\n",
       "<style scoped>\n",
       "    .dataframe tbody tr th:only-of-type {\n",
       "        vertical-align: middle;\n",
       "    }\n",
       "\n",
       "    .dataframe tbody tr th {\n",
       "        vertical-align: top;\n",
       "    }\n",
       "\n",
       "    .dataframe thead th {\n",
       "        text-align: right;\n",
       "    }\n",
       "</style>\n",
       "<table border=\"1\" class=\"dataframe\">\n",
       "  <thead>\n",
       "    <tr style=\"text-align: right;\">\n",
       "      <th></th>\n",
       "      <th>user_id</th>\n",
       "      <th>song</th>\n",
       "      <th>song_count</th>\n",
       "      <th>song_id</th>\n",
       "    </tr>\n",
       "  </thead>\n",
       "  <tbody>\n",
       "    <tr>\n",
       "      <th>0</th>\n",
       "      <td>0</td>\n",
       "      <td>-1b82VmUjh0</td>\n",
       "      <td>6</td>\n",
       "      <td>341</td>\n",
       "    </tr>\n",
       "    <tr>\n",
       "      <th>1</th>\n",
       "      <td>0</td>\n",
       "      <td>-3j6W3IWzsk</td>\n",
       "      <td>4</td>\n",
       "      <td>589</td>\n",
       "    </tr>\n",
       "    <tr>\n",
       "      <th>2</th>\n",
       "      <td>0</td>\n",
       "      <td>-8P6U_80r7Y</td>\n",
       "      <td>2</td>\n",
       "      <td>1156</td>\n",
       "    </tr>\n",
       "    <tr>\n",
       "      <th>3</th>\n",
       "      <td>0</td>\n",
       "      <td>-9jp7xgarT0</td>\n",
       "      <td>3</td>\n",
       "      <td>1288</td>\n",
       "    </tr>\n",
       "    <tr>\n",
       "      <th>4</th>\n",
       "      <td>0</td>\n",
       "      <td>-BijuEGNfHU</td>\n",
       "      <td>11</td>\n",
       "      <td>1520</td>\n",
       "    </tr>\n",
       "  </tbody>\n",
       "</table>\n",
       "</div>"
      ],
      "text/plain": [
       "   user_id         song  song_count  song_id\n",
       "0        0  -1b82VmUjh0           6      341\n",
       "1        0  -3j6W3IWzsk           4      589\n",
       "2        0  -8P6U_80r7Y           2     1156\n",
       "3        0  -9jp7xgarT0           3     1288\n",
       "4        0  -BijuEGNfHU          11     1520"
      ]
     },
     "execution_count": 11,
     "metadata": {},
     "output_type": "execute_result"
    }
   ],
   "source": [
    "# changer le type de donnée pour 'song' d' \"object\" (string) à CATEGORIE\n",
    "# créer une nouvelle colonne SONG_ID où chaque chanson à un ID de type (int 32)\n",
    "\n",
    "flipped['song'] = flipped['song'].astype(\"category\")\n",
    "\n",
    "flipped['song_id'] = flipped['song'].cat.codes\n",
    "\n",
    "flipped.head(5)"
   ]
  },
  {
   "cell_type": "code",
   "execution_count": 12,
   "metadata": {},
   "outputs": [],
   "source": [
    "# La Library IMPLICIT s'attend à des données dans deux matrices: ITEM-USER et USER-ITEM pour applique l'ALS.\n",
    "# On utilise scipy pour construire ces deux matrices\n",
    "\n",
    "sparse_song_user = sparse.csr_matrix((flipped['song_count'].astype(float), (flipped['song_id'], flipped['user_id'])))\n",
    "\n",
    "sparse_user_song = sparse.csr_matrix((flipped['song_count'].astype(float), (flipped['user_id'], flipped['song_id'])))\n"
   ]
  },
  {
   "cell_type": "code",
   "execution_count": 13,
   "metadata": {},
   "outputs": [
    {
     "data": {
      "text/plain": [
       "<631348x45904 sparse matrix of type '<class 'numpy.float64'>'\n",
       "\twith 8741735 stored elements in Compressed Sparse Row format>"
      ]
     },
     "execution_count": 13,
     "metadata": {},
     "output_type": "execute_result"
    }
   ],
   "source": [
    "sparse_song_user"
   ]
  },
  {
   "cell_type": "code",
   "execution_count": 14,
   "metadata": {},
   "outputs": [
    {
     "data": {
      "text/plain": [
       "<45904x631348 sparse matrix of type '<class 'numpy.float64'>'\n",
       "\twith 8741735 stored elements in Compressed Sparse Row format>"
      ]
     },
     "execution_count": 14,
     "metadata": {},
     "output_type": "execute_result"
    }
   ],
   "source": [
    "sparse_user_song"
   ]
  },
  {
   "cell_type": "code",
   "execution_count": 16,
   "metadata": {},
   "outputs": [
    {
     "name": "stdout",
     "output_type": "stream",
     "text": [
      "level of sparseness for song_user: 99.96983673865066\n"
     ]
    }
   ],
   "source": [
    "# Calculer le niveau de 'sparseness' de la matrice -- elle est très élevée\n",
    "\n",
    "sparse_song_user_filled_cells = 8741735\n",
    "sparse_song_user_total_cells = 45904*631348\n",
    "sparse_song_user_empty_cells = sparse_song_user_total_cells - sparse_song_user_filled_cells\n",
    "\n",
    "level_of_sparseness_SU = (sparse_song_user_empty_cells/sparse_song_user_total_cells) * 100\n",
    "print (\"level of sparseness for song_user:\", level_of_sparseness_SU)\n"
   ]
  },
  {
   "cell_type": "markdown",
   "metadata": {},
   "source": [
    "## Maintenant qu'on a les deux matrices, on passe à l'algorithm ALS depuis Implicit"
   ]
  },
  {
   "cell_type": "code",
   "execution_count": 18,
   "metadata": {},
   "outputs": [],
   "source": [
    "# Définir notre version du modèle ALS\n",
    "\n",
    "model = implicit.als.AlternatingLeastSquares(factors=20, regularization=0.1, iterations=20)\n"
   ]
  },
  {
   "cell_type": "code",
   "execution_count": 19,
   "metadata": {},
   "outputs": [
    {
     "name": "stderr",
     "output_type": "stream",
     "text": [
      "100%|██████████| 20.0/20 [03:00<00:00,  9.85s/it]\n"
     ]
    }
   ],
   "source": [
    "# La mesure Confiance dans l'aglo a besoin d'un valeur ALPHA pour marcher. Ici, on donne 15.\n",
    "\n",
    "alpha_val = 15\n",
    "\n",
    "# La mesure de confiance est calculé: matrice SONG_ITEM x confiance\n",
    "\n",
    "data_conf = (sparse_song_user * alpha_val).astype('double')\n",
    "\n",
    "# La modèle est 'fitté' avec cette mesure de confiance\n",
    "\n",
    "model.fit(data_conf)"
   ]
  },
  {
   "cell_type": "code",
   "execution_count": 20,
   "metadata": {},
   "outputs": [],
   "source": [
    "# now that 'model' is running, we can call methods on it\n",
    "\n",
    "user_vecs = model.user_factors\n",
    "\n",
    "song_vecs = model.item_factors"
   ]
  },
  {
   "cell_type": "code",
   "execution_count": 21,
   "metadata": {},
   "outputs": [],
   "source": [
    "# Using the SONG vector (= a kind of profile) as an argument \"Calculate the vector norms\"\n",
    "\n",
    "song_norms = np.sqrt((song_vecs * song_vecs).sum(axis=1))\n"
   ]
  },
  {
   "cell_type": "markdown",
   "metadata": {},
   "source": [
    "### Maintenant qu'on a les 2 matrices et l'algo ALS - on précise une chanson"
   ]
  },
  {
   "cell_type": "code",
   "execution_count": 26,
   "metadata": {},
   "outputs": [],
   "source": [
    "# Prenons la chanson X...\n",
    "# trouvons N nombre de chansons 'semblables' (chanson d'origine comprise, donc n_similar = 10 nous rend neuf propositions)\n",
    "\n",
    "find_song_id = 1800\n",
    "\n",
    "n_similar = 10"
   ]
  },
  {
   "cell_type": "code",
   "execution_count": 27,
   "metadata": {},
   "outputs": [],
   "source": [
    "# Calculate the similarity score, grab the top N items and create list of song-score tuples of most similar songs\n",
    "\n",
    "# (this is where the mysterious 'song_id' intervenes - also where the 'dot products' are measured compared)\n",
    "\n",
    "scores = song_vecs.dot(song_vecs[find_song_id]) / song_norms\n",
    "\n",
    "top_idx = np.argpartition(scores, -n_similar)[-n_similar:]\n",
    "\n",
    "similar = sorted(zip(top_idx, scores[top_idx] / song_norms[find_song_id]), key=lambda x: -x[1])"
   ]
  },
  {
   "cell_type": "code",
   "execution_count": 33,
   "metadata": {},
   "outputs": [
    {
     "name": "stdout",
     "output_type": "stream",
     "text": [
      "-E1CN_BQDKU\n",
      "TFx3FCG0cNI\n",
      "SRV-pfti6Ps\n",
      "ijVU6VCACMM\n",
      "Ipl-rLRxOrs\n",
      "d9cKKJuFCH4\n",
      "P8dI3hIs8pg\n",
      "hm-iKTfAVw8\n",
      "pJJJcnIXk94\n",
      "luhifBq51mA\n",
      "['-E1CN_BQDKU', 'TFx3FCG0cNI', 'SRV-pfti6Ps', 'ijVU6VCACMM', 'Ipl-rLRxOrs', 'd9cKKJuFCH4', 'P8dI3hIs8pg', 'hm-iKTfAVw8', 'pJJJcnIXk94', 'luhifBq51mA']\n"
     ]
    }
   ],
   "source": [
    "# Imprimer les chansons: celle qu'on a fourni, et les propositions qui y répondent. Les mettre dans une liste\n",
    "\n",
    "songs_propd = []\n",
    "\n",
    "for item in similar:\n",
    "    idx, score = item\n",
    "    found = flipped.song.loc[flipped.song_id == idx].iloc[0]\n",
    "    songs_propd.append(found)\n",
    "    print (found)\n",
    "\n",
    "print (songs_propd)"
   ]
  },
  {
   "cell_type": "code",
   "execution_count": 29,
   "metadata": {},
   "outputs": [
    {
     "name": "stdout",
     "output_type": "stream",
     "text": [
      "LA CHANSON QU'ON A FOURNIE C'EST LA PREMIERE. CELLES QUI SUIVENT ONT ÉTÉ RETROUVÉES\n",
      "Beatamines & David Jach - Something Soul\n",
      "https://www.youtube.com/watch?v=-E1CN_BQDKU\n",
      "Paul Johnson -  I'm A Freak (And Your Girl Is Too) (Nite Life, 1995)\n",
      "https://www.youtube.com/watch?v=TFx3FCG0cNI\n",
      "Beyonce - Wishing on a star\n",
      "https://www.youtube.com/watch?v=SRV-pfti6Ps\n",
      "Basic Soul Unit - Innershell\n",
      "https://www.youtube.com/watch?v=ijVU6VCACMM\n",
      "Owl City - In Christ Alone (I Stand)\n",
      "https://www.youtube.com/watch?v=Ipl-rLRxOrs\n",
      "André Brasseur - X (Original 45 Belgian Psych Hammond Fuzz Funk)\n",
      "https://www.youtube.com/watch?v=d9cKKJuFCH4\n",
      "Ben Sims - Orbit\n",
      "https://www.youtube.com/watch?v=P8dI3hIs8pg\n",
      "Nicole Martin-Rien n'est impossible\n",
      "https://www.youtube.com/watch?v=hm-iKTfAVw8\n",
      "Feel What You Know - Big Muff\n",
      "https://www.youtube.com/watch?v=pJJJcnIXk94\n"
     ]
    }
   ],
   "source": [
    "# on refait tourner mais avec un YT scrape / lookup pour pouvoir écouter \n",
    "\n",
    "print (\"LA CHANSON QU'ON A FOURNIE C'EST LA PREMIERE. CELLES QUI SUIVENT ONT ÉTÉ RETROUVÉES\")\n",
    "\n",
    "for item in similar:    \n",
    "    idx, score = item\n",
    "    sugg = flipped.song.loc[flipped.song_id == idx].iloc[0]\n",
    "        \n",
    "    yt = \"https://www.youtube.com/watch?v=\"\n",
    "    url = yt.strip() + sugg.strip()\n",
    "    page = requests.get(url)\n",
    "    soup = bs (page.text, 'html.parser')\n",
    "\n",
    "    for item in soup.find_all('h1',{'class':'watch-title-container'}): \n",
    "        for post in item.find_all('span',{'class':'watch-title'}): \n",
    "            print (post.string.strip())\n",
    "            print (url)\n"
   ]
  },
  {
   "cell_type": "markdown",
   "metadata": {},
   "source": [
    "## Create USER RECOMMENDATIONS"
   ]
  },
  {
   "cell_type": "code",
   "execution_count": 34,
   "metadata": {},
   "outputs": [],
   "source": [
    "# cette fonction prend: utilisateur_ID, matrice USER_SONG, user_vecs & song_vecs (qu'on vient de créer), \n",
    "# il rend un modèle 'recommendations'\n",
    "\n",
    "# NOTONS - c'est ici qu'on précise qu'on cherche CINQ (ou deux, ou vingt) recommendations\n",
    "\n",
    "def recommend(user_id, sparse_user_song, user_vecs, song_vecs, num_items=5):\n",
    "\n",
    "    user_interactions = sparse_user_song[user_id,:].toarray()\n",
    "\n",
    "    user_interactions = user_interactions.reshape(-1) + 1\n",
    "    \n",
    "    user_interactions[user_interactions > 1] = 0\n",
    "\n",
    "    rec_vector = user_vecs[user_id,:].dot(song_vecs.T).toarray()\n",
    "\n",
    "    min_max = MinMaxScaler()\n",
    "    rec_vector_scaled = min_max.fit_transform(rec_vector.reshape(-1,1))[:,0]\n",
    "    recommend_vector = user_interactions * rec_vector_scaled\n",
    "\n",
    "    item_idx = np.argsort(recommend_vector)[::-1][:num_items]\n",
    "\n",
    "    songs = []\n",
    "    scores = []\n",
    "\n",
    "    for idx in item_idx:\n",
    "        \n",
    "        songs.append(flipped.song.loc[flipped.song_id == idx].iloc[0])\n",
    "        scores.append(recommend_vector[idx])\n",
    "\n",
    "    recommendations = pd.DataFrame({'song': songs, 'score': scores})\n",
    "\n",
    "    return recommendations"
   ]
  },
  {
   "cell_type": "code",
   "execution_count": 35,
   "metadata": {},
   "outputs": [
    {
     "name": "stdout",
     "output_type": "stream",
     "text": [
      "          song     score\n",
      "0  98IslatTiws  1.000000\n",
      "1  pzZK4al4dvA  0.974416\n",
      "2  fD_Wl-_Dvts  0.969960\n",
      "3  HpSCv8BjYzM  0.965399\n",
      "4  28tZ-S1LFok  0.959262\n"
     ]
    }
   ],
   "source": [
    "# Get the trained user and item vectors. We convert them to csr matrices to work with our previous recommend function.\n",
    "# we ALREADY had user and song_vecs - but here they're defined in terms of the matrices.\n",
    "\n",
    "# On précise un utilisateur - on demande des recommendations\n",
    "\n",
    "user_vecs = sparse.csr_matrix(model.user_factors)\n",
    "song_vecs = sparse.csr_matrix(model.item_factors)\n",
    "\n",
    "#item_vecs = model.item_factors\n",
    "\n",
    "# Create recommendations for user with id 40\n",
    "user_id = 40\n",
    "\n",
    "recommendations = recommend(user_id, sparse_user_song, user_vecs, song_vecs)\n",
    "\n",
    "print (recommendations)"
   ]
  },
  {
   "cell_type": "code",
   "execution_count": 37,
   "metadata": {},
   "outputs": [
    {
     "name": "stdout",
     "output_type": "stream",
     "text": [
      "LA CHANSON QU'ON A FOURNIE C'EST LA PREMIERE. CELLES QUI SUIVENT ONT ÉTÉ RETROUVÉES\n",
      "l'auditeur content c'est le 40\n",
      "S'il n'y a pas 5 chansons ci-dessous, c'est qu'il y en a qui n'existent plus sur YT\n",
      "Exotica - Control Freak (Clip officiel)\n",
      "https://www.youtube.com/watch?v=98IslatTiws\n",
      "Major Lazer - Aerosol Can ft. Pharrell Williams\n",
      "https://www.youtube.com/watch?v=pzZK4al4dvA\n",
      "Ron Trent - You'll Never Find [preview]\n",
      "https://www.youtube.com/watch?v=fD_Wl-_Dvts\n",
      "Parra for Cuva - Swept Away (feat. Anna Naklab & Mr. Gramo)\n",
      "https://www.youtube.com/watch?v=HpSCv8BjYzM\n",
      "Phantogram \"When I'm Small\"\n",
      "https://www.youtube.com/watch?v=28tZ-S1LFok\n"
     ]
    }
   ],
   "source": [
    "# on refait tourner mais avec un YT scrape / lookup pour pouvoir écouter\n",
    "\n",
    "rec_songs_only = recommendations.song\n",
    "happy_listener = user_id\n",
    "\n",
    "print (\"LA CHANSON QU'ON A FOURNIE C'EST LA PREMIERE. CELLES QUI SUIVENT ONT ÉTÉ RETROUVÉES\")\n",
    "print (\"l'auditeur content c'est le\", happy_listener)\n",
    "print (\"S'il n'y a pas\", len (recommendations), \"chansons ci-dessous, c'est qu'il y en a qui n'existent plus sur YT\")\n",
    "\n",
    "for item in rec_songs_only:    \n",
    "        \n",
    "    yt = \"https://www.youtube.com/watch?v=\"\n",
    "    url = yt.strip() + item.strip()\n",
    "    page = requests.get(url)\n",
    "    soup = bs (page.text, 'html.parser')\n",
    "\n",
    "    for item in soup.find_all('h1',{'class':'watch-title-container'}): \n",
    "        for post in item.find_all('span',{'class':'watch-title'}): \n",
    "            print (post.string.strip())\n",
    "            print (url)\n",
    "\n",
    "\n"
   ]
  },
  {
   "cell_type": "code",
   "execution_count": null,
   "metadata": {},
   "outputs": [],
   "source": []
  },
  {
   "cell_type": "code",
   "execution_count": null,
   "metadata": {},
   "outputs": [],
   "source": []
  },
  {
   "cell_type": "markdown",
   "metadata": {},
   "source": [
    "### Annexe"
   ]
  },
  {
   "cell_type": "code",
   "execution_count": 27,
   "metadata": {},
   "outputs": [
    {
     "name": "stdout",
     "output_type": "stream",
     "text": [
      "6UtmfpS3ycE\n",
      "Beethoven - Symphony n°7 - Berlin / Furtwängler 1943\n",
      "https://www.youtube.com/watch?v=-CNrGqHKoa8\n"
     ]
    }
   ],
   "source": [
    "# la fonction de base pour retrouver titre et lien d'une chanson\n",
    "\n",
    "def find_toon(rem):\n",
    "    \n",
    "    top_ten_listens = []\n",
    "    \n",
    "    yt = \"https://www.youtube.com/watch?v=\"\n",
    "    url = yt.strip() + rem.strip()\n",
    "    page = requests.get(url)\n",
    "    soup = bs (page.text, 'html.parser')\n",
    "\n",
    "    for item in soup.find_all('h1',{'class':'watch-title-container'}): \n",
    "        for post in item.find_all('span',{'class':'watch-title'}): \n",
    "            print (post.string.strip())\n",
    "            print (url)\n",
    "            \n",
    "find_toon(\"-CNrGqHKoa8\")"
   ]
  }
 ],
 "metadata": {
  "kernelspec": {
   "display_name": "Python 3",
   "language": "python",
   "name": "python3"
  },
  "language_info": {
   "codemirror_mode": {
    "name": "ipython",
    "version": 3
   },
   "file_extension": ".py",
   "mimetype": "text/x-python",
   "name": "python",
   "nbconvert_exporter": "python",
   "pygments_lexer": "ipython3",
   "version": "3.7.3"
  }
 },
 "nbformat": 4,
 "nbformat_minor": 2
}
