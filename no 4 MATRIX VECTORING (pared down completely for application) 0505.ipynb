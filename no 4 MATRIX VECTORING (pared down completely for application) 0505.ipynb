{
 "cells": [
  {
   "cell_type": "code",
   "execution_count": 38,
   "metadata": {},
   "outputs": [],
   "source": [
    "import pandas as pd\n",
    "import scipy.sparse as sparse \n",
    "import implicit \n",
    "import numpy as np\n",
    "from sklearn.preprocessing import MinMaxScaler\n",
    "\n",
    "clean = pd.read_csv('/Users/aidanairuser/Desktop/OPENWHYD/0404_log_clean.csv')   # importer le log 0404 propre\n",
    "clean_df = pd.DataFrame(clean.drop('timestamp', axis=1))                         # virer la colonne 'timestamp'\n",
    "\n",
    "# ce log_0404_propre fait 22M lignes, alors que l'original faisait 25M lignes"
   ]
  },
  {
   "cell_type": "code",
   "execution_count": 40,
   "metadata": {},
   "outputs": [],
   "source": [
    "# use a groupby to produce the dataset in the form 'user - song - number of plays'\n",
    "\n",
    "flipped = pd.DataFrame(clean_df.groupby ( ['user', 'song']).song.count ( )).add_suffix('_count').reset_index()\n",
    "flipped.rename(columns = {'user':'user_id'}, inplace = True)\n",
    "\n",
    "# changer le type de donnée pour 'song' d' \"object\" (string) à 'catégorie'\n",
    "# créer une nouvelle colonne SONG_ID où chaque chanson à un ID du type (int 32)\n",
    "\n",
    "flipped['song'] = flipped['song'].astype(\"category\")\n",
    "flipped['song_id'] = flipped['song'].cat.codes"
   ]
  },
  {
   "cell_type": "code",
   "execution_count": 41,
   "metadata": {},
   "outputs": [],
   "source": [
    "# define a version of the als model\n",
    "\n",
    "model = implicit.als.AlternatingLeastSquares(factors=20, regularization=0.1, iterations=20)\n"
   ]
  },
  {
   "cell_type": "code",
   "execution_count": 70,
   "metadata": {},
   "outputs": [
    {
     "name": "stderr",
     "output_type": "stream",
     "text": [
      "100%|██████████| 20.0/20 [02:58<00:00,  8.14s/it]\n"
     ]
    }
   ],
   "source": [
    "\n",
    "# NB --- THIS IS THE ENGINE THAT TURNS AND IS THEN READY TO GENERATE A FRESH BATCH OF SUGGESTIONS.\n",
    "\n",
    "# The IMPLICIT LIBRARY EXPECTS DATA AS 2 ITEM-USER and USER-ITEM MATRICES at least if it's going to run ALS, \n",
    "# we use scipy to build the magic sparse dfs here\n",
    "\n",
    "sparse_song_user = sparse.csr_matrix((flipped['song_count'].astype(float), (flipped['song_id'], flipped['user_id'])))\n",
    "sparse_user_song = sparse.csr_matrix((flipped['song_count'].astype(float), (flipped['user_id'], flipped['song_id'])))\n",
    "\n",
    "# La mesure Confiance dans l'algo a besoin d'un valeur ALPHA pour marcher. Ici, on donne 15.\n",
    "# La mesure de confiance est calculé: matrice SONG_USER x confiance\n",
    "\n",
    "alpha_val = 15               \n",
    "data_conf = (sparse_song_user * alpha_val).astype('double') \n",
    "\n",
    "# La modèle est 'fitté' avec cette mesure de confiance\n",
    "\n",
    "model.fit(data_conf)"
   ]
  },
  {
   "cell_type": "code",
   "execution_count": 71,
   "metadata": {},
   "outputs": [],
   "source": [
    "# now that 'model' is running, we can call methods on it - on aura besoin\n",
    "# Using the SONG vector (= a kind of profile) as an argument \"Calculate the vector norms\"\n",
    "\n",
    "user_vecs = model.user_factors\n",
    "song_vecs = model.item_factors\n",
    "\n",
    "song_norms = np.sqrt((song_vecs * song_vecs).sum(axis=1))\n"
   ]
  },
  {
   "cell_type": "code",
   "execution_count": 72,
   "metadata": {},
   "outputs": [],
   "source": [
    "# cette fonction prend: utilisateur_ID, matrice USER_SONG, user_vecs & song_vecs (qu'on vient de créer), NB de 'items'\n",
    "\n",
    "def recommend(user_id, sparse_user_song, user_vecs, song_vecs, num_items=10):\n",
    "\n",
    "    user_interactions = sparse_user_song[user_id,:].toarray()\n",
    "\n",
    "    user_interactions = user_interactions.reshape(-1) + 1\n",
    "    \n",
    "    user_interactions[user_interactions > 1] = 0\n",
    "\n",
    "    rec_vector = user_vecs[user_id,:].dot(song_vecs.T).toarray()\n",
    "\n",
    "    min_max = MinMaxScaler()\n",
    "    rec_vector_scaled = min_max.fit_transform(rec_vector.reshape(-1,1))[:,0]\n",
    "    recommend_vector = user_interactions * rec_vector_scaled\n",
    "\n",
    "    item_idx = np.argsort(recommend_vector)[::-1][:num_items]\n",
    "\n",
    "    songs = []\n",
    "    scores = []\n",
    "\n",
    "    for idx in item_idx:\n",
    "        \n",
    "        songs.append(flipped.song.loc[flipped.song_id == idx].iloc[0])\n",
    "        scores.append(recommend_vector[idx])\n",
    "\n",
    "    recommendations = pd.DataFrame({'song': songs, 'score': scores})\n",
    "\n",
    "    return recommendations"
   ]
  },
  {
   "cell_type": "code",
   "execution_count": 75,
   "metadata": {},
   "outputs": [
    {
     "name": "stdout",
     "output_type": "stream",
     "text": [
      "          song     score\n",
      "0  mfnzpfgR_AE  1.000000\n",
      "1  4ZHwu0uut3k  0.919856\n",
      "2  bpOSxM0rNPM  0.915817\n",
      "3  fiore9Z5iUg  0.911038\n",
      "4  o47HCjB3Plc  0.909622\n",
      "5  QqkYwkjpo_o  0.906726\n",
      "6  JaAWdljhD5o  0.899376\n",
      "7  BQeMxWjpr-Y  0.897428\n",
      "8  9mnoiRqh0dQ  0.897018\n",
      "9  n0FOPTYJPXw  0.896480\n"
     ]
    }
   ],
   "source": [
    "\n",
    "# Get the trained user and item vectors. We convert them to csr matrices to work with our previous recommend function.\n",
    "# we ALREADY had user and song_vecs - but here they're defined in terms of the matrices.\n",
    "\n",
    "user_vecs = sparse.csr_matrix(model.user_factors)\n",
    "song_vecs = sparse.csr_matrix(model.item_factors)\n",
    "\n",
    "#item_vecs = model.item_factors\n",
    "\n",
    "user_id = 1      # Create recommendations for a user \n",
    "\n",
    "recommendations = recommend(user_id, sparse_user_song, user_vecs, song_vecs)\n",
    "\n",
    "print (recommendations)"
   ]
  },
  {
   "cell_type": "code",
   "execution_count": 76,
   "metadata": {},
   "outputs": [
    {
     "name": "stdout",
     "output_type": "stream",
     "text": [
      "l'auditeur content c'est le 1\n",
      "Annihilator - Brain Dance [HD/1080p]\n",
      "https://www.youtube.com/watch?v=mfnzpfgR_AE\n",
      "Tom Odell - Another Love (Zwette Edit)\n",
      "https://www.youtube.com/watch?v=4ZHwu0uut3k\n",
      "Arctic Monkeys - Do I Wanna Know? (Official Video)\n",
      "https://www.youtube.com/watch?v=bpOSxM0rNPM\n",
      "Lilly Wood & The Prick and Robin Schulz - Prayer In C (Robin Schulz Remix) (Official)\n",
      "https://www.youtube.com/watch?v=fiore9Z5iUg\n",
      "Missy Elliot - The Rain\n",
      "https://www.youtube.com/watch?v=o47HCjB3Plc\n",
      "Six Days - DJ Shadow\n",
      "https://www.youtube.com/watch?v=QqkYwkjpo_o\n",
      "SAIL - AWOLNATION (Unofficial Video)\n",
      "https://www.youtube.com/watch?v=JaAWdljhD5o\n",
      "Coldplay - Midnight\n",
      "https://www.youtube.com/watch?v=BQeMxWjpr-Y\n",
      "Milky Chance - Down By The River (FlicFlac Edit)\n",
      "https://www.youtube.com/watch?v=9mnoiRqh0dQ\n",
      "Disclosure - F For You ft. Mary J. Blige (Official Video)\n",
      "https://www.youtube.com/watch?v=n0FOPTYJPXw\n"
     ]
    }
   ],
   "source": [
    "# on refait tourner mais avec un YT scrape / lookup pour pouvoir écouter\n",
    "\n",
    "rec_songs_only = recommendations.song\n",
    "happy_listener = user_id\n",
    "\n",
    "print (\"l'auditeur content c'est le\", happy_listener)\n",
    "\n",
    "for item in rec_songs_only:    \n",
    "        \n",
    "    yt = \"https://www.youtube.com/watch?v=\"\n",
    "    url = yt.strip() + item.strip()\n",
    "    page = requests.get(url)\n",
    "    soup = bs (page.text, 'html.parser')\n",
    "\n",
    "    for item in soup.find_all('h1',{'class':'watch-title-container'}): \n",
    "        for post in item.find_all('span',{'class':'watch-title'}): \n",
    "            print (post.string.strip())\n",
    "            print (url)\n"
   ]
  },
  {
   "cell_type": "code",
   "execution_count": null,
   "metadata": {},
   "outputs": [],
   "source": []
  }
 ],
 "metadata": {
  "kernelspec": {
   "display_name": "Python 3",
   "language": "python",
   "name": "python3"
  },
  "language_info": {
   "codemirror_mode": {
    "name": "ipython",
    "version": 3
   },
   "file_extension": ".py",
   "mimetype": "text/x-python",
   "name": "python",
   "nbconvert_exporter": "python",
   "pygments_lexer": "ipython3",
   "version": "3.7.3"
  }
 },
 "nbformat": 4,
 "nbformat_minor": 2
}
