{
 "cells": [
  {
   "cell_type": "markdown",
   "metadata": {},
   "source": [
    "note - there are 2 cells that need adjusting depending on which set (small sample, or real set) is being used:\n",
    "cell 73 & cell 376"
   ]
  },
  {
   "cell_type": "markdown",
   "metadata": {},
   "source": [
    "ISSUES\n",
    " - if the video is unavailable, the scrape part of the algo returns a web address with just no track name. It needs to search again."
   ]
  },
  {
   "cell_type": "markdown",
   "metadata": {},
   "source": [
    "## import & wrangling"
   ]
  },
  {
   "cell_type": "code",
   "execution_count": 1,
   "metadata": {},
   "outputs": [],
   "source": [
    "import pandas as pd\n",
    "import numpy as np\n",
    "import random\n",
    "import time\n",
    "from bs4 import BeautifulSoup as bs\n",
    "import requests"
   ]
  },
  {
   "cell_type": "code",
   "execution_count": 65,
   "metadata": {},
   "outputs": [
    {
     "name": "stdout",
     "output_type": "stream",
     "text": [
      "(584927, 2)\n"
     ]
    },
    {
     "data": {
      "text/html": [
       "<div>\n",
       "<style scoped>\n",
       "    .dataframe tbody tr th:only-of-type {\n",
       "        vertical-align: middle;\n",
       "    }\n",
       "\n",
       "    .dataframe tbody tr th {\n",
       "        vertical-align: top;\n",
       "    }\n",
       "\n",
       "    .dataframe thead th {\n",
       "        text-align: right;\n",
       "    }\n",
       "</style>\n",
       "<table border=\"1\" class=\"dataframe\">\n",
       "  <thead>\n",
       "    <tr style=\"text-align: right;\">\n",
       "      <th></th>\n",
       "      <th>user</th>\n",
       "      <th>song</th>\n",
       "    </tr>\n",
       "  </thead>\n",
       "  <tbody>\n",
       "    <tr>\n",
       "      <th>472088</th>\n",
       "      <td>47</td>\n",
       "      <td>NP57BsWO3RY</td>\n",
       "    </tr>\n",
       "    <tr>\n",
       "      <th>166836</th>\n",
       "      <td>155</td>\n",
       "      <td>FKIQ8BBcI6I</td>\n",
       "    </tr>\n",
       "    <tr>\n",
       "      <th>490674</th>\n",
       "      <td>1000</td>\n",
       "      <td>xuTDKlyXbQg</td>\n",
       "    </tr>\n",
       "    <tr>\n",
       "      <th>279987</th>\n",
       "      <td>285</td>\n",
       "      <td>fbzEOQLOAWw</td>\n",
       "    </tr>\n",
       "    <tr>\n",
       "      <th>231042</th>\n",
       "      <td>285</td>\n",
       "      <td>pguMUFyJ3_U</td>\n",
       "    </tr>\n",
       "  </tbody>\n",
       "</table>\n",
       "</div>"
      ],
      "text/plain": [
       "        user          song\n",
       "472088    47   NP57BsWO3RY\n",
       "166836   155   FKIQ8BBcI6I\n",
       "490674  1000   xuTDKlyXbQg\n",
       "279987   285   fbzEOQLOAWw\n",
       "231042   285   pguMUFyJ3_U"
      ]
     },
     "execution_count": 65,
     "metadata": {},
     "output_type": "execute_result"
    }
   ],
   "source": [
    "path_to_file = \"/Users/aidanairuser/Desktop/OPENWHYHD/openwhyhd_logs.csv\"\n",
    "sample = pd.read_csv(path_to_file)\n",
    "print (sample.shape)\n",
    "sample.sample(5)"
   ]
  },
  {
   "cell_type": "code",
   "execution_count": 66,
   "metadata": {},
   "outputs": [
    {
     "name": "stdout",
     "output_type": "stream",
     "text": [
      "nb of songs 1275\n",
      "nb of users 80388\n",
      "DATA TYPES\n",
      "user     int64\n",
      "song    object\n",
      "dtype: object\n"
     ]
    }
   ],
   "source": [
    "print (\"nb of songs\", sample.user.nunique())\n",
    "print (\"nb of users\", sample.song.nunique())\n",
    "print (\"DATA TYPES\")\n",
    "print (sample.dtypes)\n",
    "\n",
    "# there are 96 users in the sample set"
   ]
  },
  {
   "cell_type": "markdown",
   "metadata": {},
   "source": [
    "## simplest rec: a top ten"
   ]
  },
  {
   "cell_type": "code",
   "execution_count": 105,
   "metadata": {},
   "outputs": [
    {
     "data": {
      "text/html": [
       "<div>\n",
       "<style scoped>\n",
       "    .dataframe tbody tr th:only-of-type {\n",
       "        vertical-align: middle;\n",
       "    }\n",
       "\n",
       "    .dataframe tbody tr th {\n",
       "        vertical-align: top;\n",
       "    }\n",
       "\n",
       "    .dataframe thead th {\n",
       "        text-align: right;\n",
       "    }\n",
       "</style>\n",
       "<table border=\"1\" class=\"dataframe\">\n",
       "  <thead>\n",
       "    <tr style=\"text-align: right;\">\n",
       "      <th></th>\n",
       "      <th>song</th>\n",
       "    </tr>\n",
       "  </thead>\n",
       "  <tbody>\n",
       "    <tr>\n",
       "      <th>x1ea7Dh53lg</th>\n",
       "      <td>4226</td>\n",
       "    </tr>\n",
       "    <tr>\n",
       "      <th>y3FGucaZk2Y</th>\n",
       "      <td>4219</td>\n",
       "    </tr>\n",
       "    <tr>\n",
       "      <th>pguMUFyJ3_U</th>\n",
       "      <td>4204</td>\n",
       "    </tr>\n",
       "    <tr>\n",
       "      <th>MwvITR0d93g</th>\n",
       "      <td>4193</td>\n",
       "    </tr>\n",
       "    <tr>\n",
       "      <th>Y9GKNbNSpM8</th>\n",
       "      <td>4178</td>\n",
       "    </tr>\n",
       "    <tr>\n",
       "      <th>g_XNPNYCUSU</th>\n",
       "      <td>4178</td>\n",
       "    </tr>\n",
       "    <tr>\n",
       "      <th>cLbgNvjyS4I</th>\n",
       "      <td>4176</td>\n",
       "    </tr>\n",
       "    <tr>\n",
       "      <th>B42HTy-gRVA</th>\n",
       "      <td>4172</td>\n",
       "    </tr>\n",
       "    <tr>\n",
       "      <th>fbzEOQLOAWw</th>\n",
       "      <td>4171</td>\n",
       "    </tr>\n",
       "    <tr>\n",
       "      <th>OmEyb87NlQo</th>\n",
       "      <td>4167</td>\n",
       "    </tr>\n",
       "    <tr>\n",
       "      <th>ZgJ0GHXqAyI</th>\n",
       "      <td>4160</td>\n",
       "    </tr>\n",
       "  </tbody>\n",
       "</table>\n",
       "</div>"
      ],
      "text/plain": [
       "              song\n",
       " x1ea7Dh53lg  4226\n",
       " y3FGucaZk2Y  4219\n",
       " pguMUFyJ3_U  4204\n",
       " MwvITR0d93g  4193\n",
       " Y9GKNbNSpM8  4178\n",
       " g_XNPNYCUSU  4178\n",
       " cLbgNvjyS4I  4176\n",
       " B42HTy-gRVA  4172\n",
       " fbzEOQLOAWw  4171\n",
       " OmEyb87NlQo  4167\n",
       " ZgJ0GHXqAyI  4160"
      ]
     },
     "execution_count": 105,
     "metadata": {},
     "output_type": "execute_result"
    }
   ],
   "source": [
    "top_ten = sample.song.value_counts().head(11)\n",
    "hits = pd.DataFrame(top_ten)\n",
    "hits"
   ]
  },
  {
   "cell_type": "markdown",
   "metadata": {},
   "source": [
    "-- this is the top ten for the small sample set\n",
    "\n",
    "scrape the details (see below):\n",
    "\n",
    "少年時代　井上揚水\n",
    "Green Velvet - I Want To Leave My Body\n",
    "般若心経 托鉢 short ver  (heartsutra takuhatsu ver.) live act / 薬師寺寛邦(キッサコ)\n",
    "般若心経 cho ver. (Heartsutra cho ver. ) live act / 薬師寺寛邦 キッサコ\n",
    "BEACH HOUSE -- \"LEMON GLOW\"\n",
    "Rejjie Snow - Egyptian Luvr (feat. Aminé & Dana Williams) (Official Audio)\n",
    "The Spinners - I'll Be Around\n",
    "** the 8th most listened to is now 'video unavailable\n",
    "6LACK - Never Know\n",
    "Best Music Mix 2017- Shuffle Music Video HD - Melbourne Bounce Music Mix 2017\n",
    "Underground Lovers - Your Eyes"
   ]
  },
  {
   "cell_type": "markdown",
   "metadata": {},
   "source": [
    "## function to pull video title from site"
   ]
  },
  {
   "cell_type": "code",
   "execution_count": 106,
   "metadata": {},
   "outputs": [
    {
     "name": "stdout",
     "output_type": "stream",
     "text": [
      "The Shadow of Your Smile - Perry Como Live\n",
      "https://www.youtube.com/watch?v=x1ea7Dh53lg\n"
     ]
    }
   ],
   "source": [
    "\n",
    "def find_toon(rem):\n",
    "    \n",
    "    top_ten_listens = []\n",
    "    \n",
    "    yt = \"https://www.youtube.com/watch?v=\"\n",
    "    url = yt.strip() + rem.strip()\n",
    "    page = requests.get(url)\n",
    "    soup = bs (page.text, 'html.parser')\n",
    "\n",
    "    for item in soup.find_all('h1',{'class':'watch-title-container'}): \n",
    "        for post in item.find_all('span',{'class':'watch-title'}): \n",
    "            print (post.string.strip())\n",
    "            print (url)\n",
    "            \n",
    "find_toon(\"PLACE_end_of_yt_address_here_please\")"
   ]
  },
  {
   "cell_type": "markdown",
   "metadata": {},
   "source": [
    "## pivot and flatten the log"
   ]
  },
  {
   "cell_type": "code",
   "execution_count": 67,
   "metadata": {},
   "outputs": [
    {
     "data": {
      "text/html": [
       "<div>\n",
       "<style scoped>\n",
       "    .dataframe tbody tr th:only-of-type {\n",
       "        vertical-align: middle;\n",
       "    }\n",
       "\n",
       "    .dataframe tbody tr th {\n",
       "        vertical-align: top;\n",
       "    }\n",
       "\n",
       "    .dataframe thead tr th {\n",
       "        text-align: left;\n",
       "    }\n",
       "\n",
       "    .dataframe thead tr:last-of-type th {\n",
       "        text-align: right;\n",
       "    }\n",
       "</style>\n",
       "<table border=\"1\" class=\"dataframe\">\n",
       "  <thead>\n",
       "    <tr>\n",
       "      <th></th>\n",
       "      <th colspan=\"21\" halign=\"left\">user</th>\n",
       "    </tr>\n",
       "    <tr>\n",
       "      <th>user</th>\n",
       "      <th>0</th>\n",
       "      <th>1</th>\n",
       "      <th>2</th>\n",
       "      <th>3</th>\n",
       "      <th>4</th>\n",
       "      <th>5</th>\n",
       "      <th>6</th>\n",
       "      <th>7</th>\n",
       "      <th>8</th>\n",
       "      <th>9</th>\n",
       "      <th>...</th>\n",
       "      <th>1265</th>\n",
       "      <th>1266</th>\n",
       "      <th>1267</th>\n",
       "      <th>1268</th>\n",
       "      <th>1269</th>\n",
       "      <th>1270</th>\n",
       "      <th>1271</th>\n",
       "      <th>1272</th>\n",
       "      <th>1273</th>\n",
       "      <th>1274</th>\n",
       "    </tr>\n",
       "    <tr>\n",
       "      <th>song</th>\n",
       "      <th></th>\n",
       "      <th></th>\n",
       "      <th></th>\n",
       "      <th></th>\n",
       "      <th></th>\n",
       "      <th></th>\n",
       "      <th></th>\n",
       "      <th></th>\n",
       "      <th></th>\n",
       "      <th></th>\n",
       "      <th></th>\n",
       "      <th></th>\n",
       "      <th></th>\n",
       "      <th></th>\n",
       "      <th></th>\n",
       "      <th></th>\n",
       "      <th></th>\n",
       "      <th></th>\n",
       "      <th></th>\n",
       "      <th></th>\n",
       "      <th></th>\n",
       "    </tr>\n",
       "  </thead>\n",
       "  <tbody>\n",
       "    <tr>\n",
       "      <th>--1W3Kq_pfk</th>\n",
       "      <td>NaN</td>\n",
       "      <td>NaN</td>\n",
       "      <td>NaN</td>\n",
       "      <td>NaN</td>\n",
       "      <td>NaN</td>\n",
       "      <td>NaN</td>\n",
       "      <td>NaN</td>\n",
       "      <td>NaN</td>\n",
       "      <td>NaN</td>\n",
       "      <td>NaN</td>\n",
       "      <td>...</td>\n",
       "      <td>NaN</td>\n",
       "      <td>NaN</td>\n",
       "      <td>NaN</td>\n",
       "      <td>NaN</td>\n",
       "      <td>NaN</td>\n",
       "      <td>NaN</td>\n",
       "      <td>NaN</td>\n",
       "      <td>NaN</td>\n",
       "      <td>NaN</td>\n",
       "      <td>NaN</td>\n",
       "    </tr>\n",
       "    <tr>\n",
       "      <th>--4Xde9r4Mw</th>\n",
       "      <td>NaN</td>\n",
       "      <td>NaN</td>\n",
       "      <td>NaN</td>\n",
       "      <td>NaN</td>\n",
       "      <td>NaN</td>\n",
       "      <td>NaN</td>\n",
       "      <td>NaN</td>\n",
       "      <td>NaN</td>\n",
       "      <td>NaN</td>\n",
       "      <td>NaN</td>\n",
       "      <td>...</td>\n",
       "      <td>NaN</td>\n",
       "      <td>NaN</td>\n",
       "      <td>NaN</td>\n",
       "      <td>NaN</td>\n",
       "      <td>NaN</td>\n",
       "      <td>NaN</td>\n",
       "      <td>NaN</td>\n",
       "      <td>NaN</td>\n",
       "      <td>NaN</td>\n",
       "      <td>NaN</td>\n",
       "    </tr>\n",
       "    <tr>\n",
       "      <th>--5UoWHFEpw</th>\n",
       "      <td>NaN</td>\n",
       "      <td>NaN</td>\n",
       "      <td>NaN</td>\n",
       "      <td>NaN</td>\n",
       "      <td>NaN</td>\n",
       "      <td>NaN</td>\n",
       "      <td>NaN</td>\n",
       "      <td>NaN</td>\n",
       "      <td>NaN</td>\n",
       "      <td>NaN</td>\n",
       "      <td>...</td>\n",
       "      <td>NaN</td>\n",
       "      <td>NaN</td>\n",
       "      <td>NaN</td>\n",
       "      <td>NaN</td>\n",
       "      <td>NaN</td>\n",
       "      <td>NaN</td>\n",
       "      <td>NaN</td>\n",
       "      <td>NaN</td>\n",
       "      <td>NaN</td>\n",
       "      <td>NaN</td>\n",
       "    </tr>\n",
       "    <tr>\n",
       "      <th>--ASOotWk1E</th>\n",
       "      <td>NaN</td>\n",
       "      <td>1.0</td>\n",
       "      <td>NaN</td>\n",
       "      <td>NaN</td>\n",
       "      <td>NaN</td>\n",
       "      <td>NaN</td>\n",
       "      <td>NaN</td>\n",
       "      <td>NaN</td>\n",
       "      <td>NaN</td>\n",
       "      <td>NaN</td>\n",
       "      <td>...</td>\n",
       "      <td>NaN</td>\n",
       "      <td>NaN</td>\n",
       "      <td>NaN</td>\n",
       "      <td>NaN</td>\n",
       "      <td>NaN</td>\n",
       "      <td>NaN</td>\n",
       "      <td>NaN</td>\n",
       "      <td>NaN</td>\n",
       "      <td>NaN</td>\n",
       "      <td>NaN</td>\n",
       "    </tr>\n",
       "    <tr>\n",
       "      <th>--BOTvEjuOg</th>\n",
       "      <td>NaN</td>\n",
       "      <td>NaN</td>\n",
       "      <td>NaN</td>\n",
       "      <td>NaN</td>\n",
       "      <td>NaN</td>\n",
       "      <td>NaN</td>\n",
       "      <td>NaN</td>\n",
       "      <td>NaN</td>\n",
       "      <td>NaN</td>\n",
       "      <td>1.0</td>\n",
       "      <td>...</td>\n",
       "      <td>NaN</td>\n",
       "      <td>NaN</td>\n",
       "      <td>NaN</td>\n",
       "      <td>NaN</td>\n",
       "      <td>NaN</td>\n",
       "      <td>NaN</td>\n",
       "      <td>NaN</td>\n",
       "      <td>NaN</td>\n",
       "      <td>NaN</td>\n",
       "      <td>NaN</td>\n",
       "    </tr>\n",
       "  </tbody>\n",
       "</table>\n",
       "<p>5 rows × 1275 columns</p>\n",
       "</div>"
      ],
      "text/plain": [
       "             user                                              ...             \\\n",
       "user         0    1    2    3    4    5    6    7    8    9    ...  1265 1266   \n",
       "song                                                           ...              \n",
       " --1W3Kq_pfk  NaN  NaN  NaN  NaN  NaN  NaN  NaN  NaN  NaN  NaN ...   NaN  NaN   \n",
       " --4Xde9r4Mw  NaN  NaN  NaN  NaN  NaN  NaN  NaN  NaN  NaN  NaN ...   NaN  NaN   \n",
       " --5UoWHFEpw  NaN  NaN  NaN  NaN  NaN  NaN  NaN  NaN  NaN  NaN ...   NaN  NaN   \n",
       " --ASOotWk1E  NaN  1.0  NaN  NaN  NaN  NaN  NaN  NaN  NaN  NaN ...   NaN  NaN   \n",
       " --BOTvEjuOg  NaN  NaN  NaN  NaN  NaN  NaN  NaN  NaN  NaN  1.0 ...   NaN  NaN   \n",
       "\n",
       "                                                      \n",
       "user         1267 1268 1269 1270 1271 1272 1273 1274  \n",
       "song                                                  \n",
       " --1W3Kq_pfk  NaN  NaN  NaN  NaN  NaN  NaN  NaN  NaN  \n",
       " --4Xde9r4Mw  NaN  NaN  NaN  NaN  NaN  NaN  NaN  NaN  \n",
       " --5UoWHFEpw  NaN  NaN  NaN  NaN  NaN  NaN  NaN  NaN  \n",
       " --ASOotWk1E  NaN  NaN  NaN  NaN  NaN  NaN  NaN  NaN  \n",
       " --BOTvEjuOg  NaN  NaN  NaN  NaN  NaN  NaN  NaN  NaN  \n",
       "\n",
       "[5 rows x 1275 columns]"
      ]
     },
     "execution_count": 67,
     "metadata": {},
     "output_type": "execute_result"
    }
   ],
   "source": [
    "# flip sample to a multi-index / pivot table (aggfunc=len and aggfunc='count' both work as arguments)\n",
    "\n",
    "freq = pd.pivot_table(sample,index=[\"song\"],columns=[\"user\"],values=[\"user\"], aggfunc={\"user\":'count'})\n",
    "\n",
    "freq.head(5)"
   ]
  },
  {
   "cell_type": "code",
   "execution_count": 68,
   "metadata": {},
   "outputs": [
    {
     "name": "stdout",
     "output_type": "stream",
     "text": [
      "(80388, 1275)\n"
     ]
    },
    {
     "data": {
      "text/html": [
       "<div>\n",
       "<style scoped>\n",
       "    .dataframe tbody tr th:only-of-type {\n",
       "        vertical-align: middle;\n",
       "    }\n",
       "\n",
       "    .dataframe tbody tr th {\n",
       "        vertical-align: top;\n",
       "    }\n",
       "\n",
       "    .dataframe thead tr th {\n",
       "        text-align: left;\n",
       "    }\n",
       "\n",
       "    .dataframe thead tr:last-of-type th {\n",
       "        text-align: right;\n",
       "    }\n",
       "</style>\n",
       "<table border=\"1\" class=\"dataframe\">\n",
       "  <thead>\n",
       "    <tr>\n",
       "      <th></th>\n",
       "      <th colspan=\"21\" halign=\"left\">user</th>\n",
       "    </tr>\n",
       "    <tr>\n",
       "      <th>user</th>\n",
       "      <th>0</th>\n",
       "      <th>1</th>\n",
       "      <th>2</th>\n",
       "      <th>3</th>\n",
       "      <th>4</th>\n",
       "      <th>5</th>\n",
       "      <th>6</th>\n",
       "      <th>7</th>\n",
       "      <th>8</th>\n",
       "      <th>9</th>\n",
       "      <th>...</th>\n",
       "      <th>1265</th>\n",
       "      <th>1266</th>\n",
       "      <th>1267</th>\n",
       "      <th>1268</th>\n",
       "      <th>1269</th>\n",
       "      <th>1270</th>\n",
       "      <th>1271</th>\n",
       "      <th>1272</th>\n",
       "      <th>1273</th>\n",
       "      <th>1274</th>\n",
       "    </tr>\n",
       "    <tr>\n",
       "      <th>song</th>\n",
       "      <th></th>\n",
       "      <th></th>\n",
       "      <th></th>\n",
       "      <th></th>\n",
       "      <th></th>\n",
       "      <th></th>\n",
       "      <th></th>\n",
       "      <th></th>\n",
       "      <th></th>\n",
       "      <th></th>\n",
       "      <th></th>\n",
       "      <th></th>\n",
       "      <th></th>\n",
       "      <th></th>\n",
       "      <th></th>\n",
       "      <th></th>\n",
       "      <th></th>\n",
       "      <th></th>\n",
       "      <th></th>\n",
       "      <th></th>\n",
       "      <th></th>\n",
       "    </tr>\n",
       "  </thead>\n",
       "  <tbody>\n",
       "    <tr>\n",
       "      <th>--1W3Kq_pfk</th>\n",
       "      <td>NaN</td>\n",
       "      <td>NaN</td>\n",
       "      <td>NaN</td>\n",
       "      <td>NaN</td>\n",
       "      <td>NaN</td>\n",
       "      <td>NaN</td>\n",
       "      <td>NaN</td>\n",
       "      <td>NaN</td>\n",
       "      <td>NaN</td>\n",
       "      <td>NaN</td>\n",
       "      <td>...</td>\n",
       "      <td>NaN</td>\n",
       "      <td>NaN</td>\n",
       "      <td>NaN</td>\n",
       "      <td>NaN</td>\n",
       "      <td>NaN</td>\n",
       "      <td>NaN</td>\n",
       "      <td>NaN</td>\n",
       "      <td>NaN</td>\n",
       "      <td>NaN</td>\n",
       "      <td>NaN</td>\n",
       "    </tr>\n",
       "    <tr>\n",
       "      <th>--4Xde9r4Mw</th>\n",
       "      <td>NaN</td>\n",
       "      <td>NaN</td>\n",
       "      <td>NaN</td>\n",
       "      <td>NaN</td>\n",
       "      <td>NaN</td>\n",
       "      <td>NaN</td>\n",
       "      <td>NaN</td>\n",
       "      <td>NaN</td>\n",
       "      <td>NaN</td>\n",
       "      <td>NaN</td>\n",
       "      <td>...</td>\n",
       "      <td>NaN</td>\n",
       "      <td>NaN</td>\n",
       "      <td>NaN</td>\n",
       "      <td>NaN</td>\n",
       "      <td>NaN</td>\n",
       "      <td>NaN</td>\n",
       "      <td>NaN</td>\n",
       "      <td>NaN</td>\n",
       "      <td>NaN</td>\n",
       "      <td>NaN</td>\n",
       "    </tr>\n",
       "    <tr>\n",
       "      <th>--5UoWHFEpw</th>\n",
       "      <td>NaN</td>\n",
       "      <td>NaN</td>\n",
       "      <td>NaN</td>\n",
       "      <td>NaN</td>\n",
       "      <td>NaN</td>\n",
       "      <td>NaN</td>\n",
       "      <td>NaN</td>\n",
       "      <td>NaN</td>\n",
       "      <td>NaN</td>\n",
       "      <td>NaN</td>\n",
       "      <td>...</td>\n",
       "      <td>NaN</td>\n",
       "      <td>NaN</td>\n",
       "      <td>NaN</td>\n",
       "      <td>NaN</td>\n",
       "      <td>NaN</td>\n",
       "      <td>NaN</td>\n",
       "      <td>NaN</td>\n",
       "      <td>NaN</td>\n",
       "      <td>NaN</td>\n",
       "      <td>NaN</td>\n",
       "    </tr>\n",
       "    <tr>\n",
       "      <th>--ASOotWk1E</th>\n",
       "      <td>NaN</td>\n",
       "      <td>1.0</td>\n",
       "      <td>NaN</td>\n",
       "      <td>NaN</td>\n",
       "      <td>NaN</td>\n",
       "      <td>NaN</td>\n",
       "      <td>NaN</td>\n",
       "      <td>NaN</td>\n",
       "      <td>NaN</td>\n",
       "      <td>NaN</td>\n",
       "      <td>...</td>\n",
       "      <td>NaN</td>\n",
       "      <td>NaN</td>\n",
       "      <td>NaN</td>\n",
       "      <td>NaN</td>\n",
       "      <td>NaN</td>\n",
       "      <td>NaN</td>\n",
       "      <td>NaN</td>\n",
       "      <td>NaN</td>\n",
       "      <td>NaN</td>\n",
       "      <td>NaN</td>\n",
       "    </tr>\n",
       "    <tr>\n",
       "      <th>--BOTvEjuOg</th>\n",
       "      <td>NaN</td>\n",
       "      <td>NaN</td>\n",
       "      <td>NaN</td>\n",
       "      <td>NaN</td>\n",
       "      <td>NaN</td>\n",
       "      <td>NaN</td>\n",
       "      <td>NaN</td>\n",
       "      <td>NaN</td>\n",
       "      <td>NaN</td>\n",
       "      <td>1.0</td>\n",
       "      <td>...</td>\n",
       "      <td>NaN</td>\n",
       "      <td>NaN</td>\n",
       "      <td>NaN</td>\n",
       "      <td>NaN</td>\n",
       "      <td>NaN</td>\n",
       "      <td>NaN</td>\n",
       "      <td>NaN</td>\n",
       "      <td>NaN</td>\n",
       "      <td>NaN</td>\n",
       "      <td>NaN</td>\n",
       "    </tr>\n",
       "  </tbody>\n",
       "</table>\n",
       "<p>5 rows × 1275 columns</p>\n",
       "</div>"
      ],
      "text/plain": [
       "             user                                              ...             \\\n",
       "user         0    1    2    3    4    5    6    7    8    9    ...  1265 1266   \n",
       "song                                                           ...              \n",
       " --1W3Kq_pfk  NaN  NaN  NaN  NaN  NaN  NaN  NaN  NaN  NaN  NaN ...   NaN  NaN   \n",
       " --4Xde9r4Mw  NaN  NaN  NaN  NaN  NaN  NaN  NaN  NaN  NaN  NaN ...   NaN  NaN   \n",
       " --5UoWHFEpw  NaN  NaN  NaN  NaN  NaN  NaN  NaN  NaN  NaN  NaN ...   NaN  NaN   \n",
       " --ASOotWk1E  NaN  1.0  NaN  NaN  NaN  NaN  NaN  NaN  NaN  NaN ...   NaN  NaN   \n",
       " --BOTvEjuOg  NaN  NaN  NaN  NaN  NaN  NaN  NaN  NaN  NaN  1.0 ...   NaN  NaN   \n",
       "\n",
       "                                                      \n",
       "user         1267 1268 1269 1270 1271 1272 1273 1274  \n",
       "song                                                  \n",
       " --1W3Kq_pfk  NaN  NaN  NaN  NaN  NaN  NaN  NaN  NaN  \n",
       " --4Xde9r4Mw  NaN  NaN  NaN  NaN  NaN  NaN  NaN  NaN  \n",
       " --5UoWHFEpw  NaN  NaN  NaN  NaN  NaN  NaN  NaN  NaN  \n",
       " --ASOotWk1E  NaN  NaN  NaN  NaN  NaN  NaN  NaN  NaN  \n",
       " --BOTvEjuOg  NaN  NaN  NaN  NaN  NaN  NaN  NaN  NaN  \n",
       "\n",
       "[5 rows x 1275 columns]"
      ]
     },
     "execution_count": 68,
     "metadata": {},
     "output_type": "execute_result"
    }
   ],
   "source": [
    "# turn selection into a df (multi-index)\n",
    "\n",
    "pivoted = pd.DataFrame(freq)\n",
    "\n",
    "print (pivoted.shape)\n",
    "\n",
    "pivoted.head(5)"
   ]
  },
  {
   "cell_type": "code",
   "execution_count": 73,
   "metadata": {},
   "outputs": [
    {
     "name": "stdout",
     "output_type": "stream",
     "text": [
      "102324954 cells are empty - soit 99.83 % of the df\n"
     ]
    }
   ],
   "source": [
    "# how sparse is the df? Print the total number of NaN and give as a %\n",
    "\n",
    "count_nans = pivoted.isnull().sum().sum()\n",
    "total_nb_cells = 80388 * 1275 \n",
    "# total_nb_cells = 1688 * 96 # this line is for when we're using the sample set\n",
    "perc = (count_nans/total_nb_cells)*100\n",
    "\n",
    "print (count_nans, \"cells are empty - soit\", perc.round(decimals=2), \"%\", \"of the df\")\n"
   ]
  },
  {
   "cell_type": "code",
   "execution_count": 74,
   "metadata": {},
   "outputs": [],
   "source": [
    "####### ------------ RELOAD FROM HERE IF NECESSARY\n",
    "\n",
    "# remove a dimension to get a df with regular columns\n",
    "\n",
    "pivoted.columns = pivoted.columns.get_level_values(1)\n",
    "pivoted_done = pd.DataFrame(pivoted)"
   ]
  },
  {
   "cell_type": "code",
   "execution_count": 75,
   "metadata": {},
   "outputs": [
    {
     "data": {
      "text/plain": [
       "pandas.core.frame.DataFrame"
      ]
     },
     "execution_count": 75,
     "metadata": {},
     "output_type": "execute_result"
    }
   ],
   "source": [
    "type(pivoted_done)"
   ]
  },
  {
   "cell_type": "code",
   "execution_count": 76,
   "metadata": {},
   "outputs": [
    {
     "data": {
      "text/plain": [
       "Int64Index([   0,    1,    2,    3,    4,    5,    6,    7,    8,    9,\n",
       "            ...\n",
       "            1265, 1266, 1267, 1268, 1269, 1270, 1271, 1272, 1273, 1274],\n",
       "           dtype='int64', name='user', length=1275)"
      ]
     },
     "execution_count": 76,
     "metadata": {},
     "output_type": "execute_result"
    }
   ],
   "source": [
    "pivoted_done.columns"
   ]
  },
  {
   "cell_type": "code",
   "execution_count": 77,
   "metadata": {},
   "outputs": [],
   "source": [
    "# replace the NaN with 0\n",
    "\n",
    "pivoted_done.fillna(value = 0, inplace = True)"
   ]
  },
  {
   "cell_type": "code",
   "execution_count": 101,
   "metadata": {},
   "outputs": [
    {
     "data": {
      "text/plain": [
       "Index(['U0', 'U1', 'U2', 'U3', 'U4', 'U5', 'U6', 'U7', 'U8', 'U9',\n",
       "       ...\n",
       "       'U1265', 'U1266', 'U1267', 'U1268', 'U1269', 'U1270', 'U1271', 'U1272',\n",
       "       'U1273', 'U1274'],\n",
       "      dtype='object', length=1275)"
      ]
     },
     "execution_count": 101,
     "metadata": {},
     "output_type": "execute_result"
    }
   ],
   "source": [
    "# change column names from ints to \"U6\" etc.\n",
    "\n",
    "string = \"U\"\n",
    "pivoted_done.columns = [string+str(i) for i in range(1275)]\n"
   ]
  },
  {
   "cell_type": "code",
   "execution_count": 102,
   "metadata": {},
   "outputs": [
    {
     "data": {
      "text/plain": [
       "U0    int64\n",
       "U1    int64\n",
       "U2    int64\n",
       "U3    int64\n",
       "U4    int64\n",
       "dtype: object"
      ]
     },
     "execution_count": 102,
     "metadata": {},
     "output_type": "execute_result"
    }
   ],
   "source": [
    "# cast all entries to integers, not floats\n",
    "\n",
    "pivoted_int = pivoted_done.astype(int, inplace = True)\n",
    "pivoted_int.dtypes.head(5)\n",
    "\n",
    "# add (int, errors = 'ignore') if that's what you need\n"
   ]
  },
  {
   "cell_type": "code",
   "execution_count": 103,
   "metadata": {},
   "outputs": [
    {
     "data": {
      "text/plain": [
       "0"
      ]
     },
     "execution_count": 103,
     "metadata": {},
     "output_type": "execute_result"
    }
   ],
   "source": [
    "# THIS returns ONLY the integer - slice the row, then slice the column\n",
    "\n",
    "pivoted_int.iloc[0][\"U1\"]\n"
   ]
  },
  {
   "cell_type": "code",
   "execution_count": 104,
   "metadata": {},
   "outputs": [
    {
     "data": {
      "text/plain": [
       "(80388, 1275)"
      ]
     },
     "execution_count": 104,
     "metadata": {},
     "output_type": "execute_result"
    }
   ],
   "source": [
    "pivoted_int.shape"
   ]
  },
  {
   "cell_type": "markdown",
   "metadata": {},
   "source": [
    "## FINAL ALGORITHM (soir, mardi 19 mars)"
   ]
  },
  {
   "cell_type": "code",
   "execution_count": 376,
   "metadata": {},
   "outputs": [],
   "source": [
    "\n",
    "def filled_test(user_A, user_B):\n",
    "\n",
    "    print (\"The pair under consideration are\", user_A, \"and\", user_B, \"\\n\")\n",
    "\n",
    "    # establish whether there are matches between the 2 users\n",
    "    match_count_df = pivoted_int[[user_A, user_B]]\n",
    "    a_b_match_count = len (match_count_df[(match_count_df[user_A] != 0) & (match_count_df[user_B] != 0)])\n",
    "\n",
    "    if a_b_match_count == 0:\n",
    "        print (\"These two users have never listened to the same song, so they have nothing to suggest to the other\", \"\\n\")\n",
    "    \n",
    "    else:\n",
    "    \n",
    "        # cell is a variable so that we can increase the row by one each time\n",
    "        row = 0\n",
    "    \n",
    "        # declare two empty lists, to store offers from one user to another\n",
    "        b_TO_A_offer = []\n",
    "        a_TO_B_offer = []\n",
    "\n",
    "        # for x in range (1688): FOR USE WITH SMALL SAMPLE SET \n",
    "        for x in range (80388):\n",
    "                  \n",
    "            # find a song present in right, but not left, to be offered\n",
    "            if pivoted_int.iloc[row][user_B] > 0 and pivoted_int.iloc[row][user_A] == 0:\n",
    "                b_TO_A_offer += [row]\n",
    "            \n",
    "            # find a song present in left col, but not right, to be offered\n",
    "            if pivoted_int.iloc[row][user_A] > 0 and pivoted_int.iloc[row][user_B] == 0:\n",
    "                a_TO_B_offer += [row]\n",
    "        \n",
    "            row = row + 1\n",
    "    \n",
    "        print (a_b_match_count, \"match(es) in total: Strength of match is TO BE DEFINED HERE PLEASE IN PART THROUGH % MATCH, IN PART THROUGH THE NB OF LISTENS TO EACH SONG \\n\")\n",
    "\n",
    "        print (len (b_TO_A_offer), \"offers for A col:\", b_TO_A_offer, \"\\n\")\n",
    "        print (len (a_TO_B_offer), \"offers for B col:\", a_TO_B_offer, \"\\n\")\n",
    " \n",
    "        # pick from the list -- at random -- and make an offer for user A\n",
    "        songA = random.choice(b_TO_A_offer)\n",
    "        song_address = pivoted_int.index[songA]\n",
    "        yt = \"https://www.youtube.com/watch?v=\"\n",
    "        completeA = yt.strip() + song_address.strip()\n",
    "        print(user_A, \"might like\", completeA)\n",
    "                      \n",
    "        # pull video details from youtube for suggestion to user A - NOTE: 4 TIMES AS SLOW WITH THE TWO SCRAPES\n",
    "        url = completeA\n",
    "        page = requests.get(url)\n",
    "        soup = bs (page.text, 'html.parser')\n",
    "        for item in soup.find_all('h1',{'class':'watch-title-container'}): \n",
    "            for post in item.find_all('span',{'class':'watch-title'}): \n",
    "                details = post.string.strip()\n",
    "                print (details, \"\\n\")\n",
    "    \n",
    "        #  ... and for user B\n",
    "        songB = random.choice(a_TO_B_offer)\n",
    "        song_address = pivoted_int.index[songB]\n",
    "        yt = \"https://www.youtube.com/watch?v=\"\n",
    "        completeB = yt.strip() + song_address.strip()\n",
    "        print(user_B, \"might like\", completeB)\n",
    "               \n",
    "        # pull video details from youtube for suggestion to user B\n",
    "        url = completeB\n",
    "        page = requests.get(url)\n",
    "        soup = bs (page.text, 'html.parser')\n",
    "        for item in soup.find_all('h1',{'class':'watch-title-container'}): \n",
    "            for post in item.find_all('span',{'class':'watch-title'}): \n",
    "                details = post.string.strip()\n",
    "                print (details, \"\\n\")\n",
    "    \n",
    "    print (\"HERE WE NEED TO FIND A WAY OF STORING UP THE DIFFERENT 'OFFERED TO U41' SERIES SO THAT WE CAN LOOK AT ALL THE SONGS BEING OFFERED TO B BY THE OTHER 95 USERS, AND CHOOSE THE MOST OFFERED\", \"\\n\")\n",
    "\n",
    "    # this has been added to calculate the average nb of plays for each song a user listens to\n",
    "    no_zeros_A = pivoted_int[(pivoted_int[user_A] != 0)] # all the full cells for the user column\n",
    "    no_zeros_B = pivoted_int[(pivoted_int[user_B] != 0)]\n",
    "\n",
    "    av_list_A = no_zeros_A[user_A].sum()/no_zeros_A[user_A].count() # a count (nb of songs) and a sum (nb of listens)\n",
    "    av_list_B = no_zeros_B[user_B].sum()/no_zeros_B[user_B].count()\n",
    "\n",
    "    print (user_A, \"listened to each of his / her songs an average of\", av_list_A.round(decimals=2), \"times\")\n",
    "    print (user_B, \"listened to each of his / her songs an average of\", av_list_B.round(decimals=2), \"times\", \"\\n\")"
   ]
  },
  {
   "cell_type": "markdown",
   "metadata": {},
   "source": [
    "## run algo here:"
   ]
  },
  {
   "cell_type": "code",
   "execution_count": 377,
   "metadata": {},
   "outputs": [
    {
     "name": "stdout",
     "output_type": "stream",
     "text": [
      "The pair under consideration are U2 and U3 \n",
      "\n",
      "46 match(es) in total: Strength of match is TO BE DEFINED HERE PLEASE IN PART THROUGH % MATCH, IN PART THROUGH THE NB OF LISTENS TO EACH SONG \n",
      "\n",
      "717 offers for A col: [8, 136, 249, 256, 287, 412, 419, 471, 473, 625, 636, 662, 728, 771, 931, 1088, 1172, 1257, 1292, 1312, 1360, 1375, 1450, 1712, 1786, 1969, 2061, 2077, 2100, 2357, 2393, 2483, 2513, 2539, 2578, 2939, 2944, 3149, 3213, 3271, 3399, 3534, 3747, 3872, 3875, 3901, 3999, 4001, 4177, 4293, 4322, 4356, 4367, 4443, 4778, 4786, 4883, 5039, 5074, 5176, 5196, 5282, 5340, 5465, 5474, 5610, 5724, 5752, 5758, 5840, 5920, 6044, 6119, 6245, 6477, 6575, 6623, 6838, 6916, 6989, 7341, 7387, 7425, 7478, 7627, 7674, 7810, 8016, 8472, 8545, 8640, 9033, 9573, 9577, 9627, 9694, 9765, 9791, 9809, 9890, 10010, 10151, 10292, 10327, 10363, 10397, 10401, 10616, 10826, 10886, 10974, 11093, 11337, 11381, 11505, 11670, 11754, 11792, 11918, 11983, 11984, 12051, 12076, 12156, 12172, 12276, 12667, 12715, 12882, 13048, 13059, 13076, 13158, 13210, 13344, 13517, 13742, 14040, 14105, 14167, 14299, 14574, 14602, 14820, 15489, 15617, 15625, 15631, 16101, 16207, 16471, 16686, 17093, 17273, 17286, 17401, 17585, 17645, 17789, 18072, 18326, 18727, 18797, 18829, 18975, 19127, 19946, 20079, 20102, 20528, 20821, 20959, 21088, 21157, 21205, 21289, 21493, 21529, 21845, 21934, 21961, 22305, 22427, 22446, 22554, 22612, 22718, 22832, 22973, 23023, 23054, 23056, 23083, 23185, 23239, 23241, 23250, 23279, 23371, 23374, 23466, 23524, 23548, 23704, 23709, 23780, 23840, 23888, 23933, 24045, 24055, 24077, 24135, 24277, 24312, 24459, 24585, 24815, 24888, 25297, 25311, 25312, 25315, 25342, 25423, 25662, 25758, 25935, 26110, 26209, 26217, 26221, 26274, 26533, 26645, 26653, 26659, 26751, 26754, 26976, 27018, 27038, 27218, 27252, 27403, 27510, 27545, 27569, 27570, 27689, 27716, 27825, 27827, 27923, 28145, 28198, 28274, 28323, 28407, 28521, 28533, 28588, 28634, 28667, 28796, 29047, 29301, 29337, 29368, 29370, 29544, 29562, 29861, 29908, 29915, 30068, 30072, 30169, 30341, 30396, 30635, 30703, 30742, 30834, 30888, 31176, 31255, 31290, 31373, 31394, 31495, 31569, 31686, 31859, 31866, 32006, 32302, 32417, 32445, 32502, 32543, 32580, 32623, 32651, 32670, 32700, 33141, 33193, 33344, 33390, 33407, 33640, 33645, 33655, 33784, 34052, 34079, 34170, 34188, 34499, 34523, 34530, 34543, 34630, 34700, 34952, 34962, 35080, 35092, 35218, 35646, 35680, 35703, 35733, 35888, 36001, 36014, 36015, 36209, 36212, 36267, 36316, 36339, 36562, 36911, 37496, 37505, 37522, 37693, 37719, 37799, 37834, 38040, 38512, 38541, 38600, 38627, 38912, 38996, 39001, 39072, 39245, 39415, 39567, 39609, 39771, 39803, 39923, 40141, 40143, 40294, 40408, 40409, 40425, 40596, 40664, 40752, 40784, 40808, 40921, 40960, 40962, 41142, 41191, 41252, 41448, 41525, 41603, 41605, 41665, 41732, 41767, 41801, 41889, 42012, 42020, 42149, 42197, 42322, 42515, 42636, 42750, 42819, 43047, 43061, 43215, 43232, 43425, 43541, 43652, 43698, 43975, 44395, 44417, 44554, 44796, 44866, 45194, 45234, 45272, 45312, 45451, 45589, 45593, 45596, 45778, 45914, 45972, 46075, 46185, 46347, 46417, 46426, 46583, 46702, 46721, 46789, 46875, 47155, 47177, 47627, 47766, 47841, 48052, 48118, 48301, 48321, 48326, 48564, 48762, 48764, 48779, 48821, 48902, 49067, 49168, 49363, 49432, 49639, 49740, 49749, 49822, 49873, 50026, 50075, 50148, 50162, 50203, 50459, 50704, 50930, 50977, 51323, 51365, 51379, 51442, 51669, 51673, 51894, 51937, 51944, 51971, 52037, 52054, 52402, 52409, 52413, 52481, 52780, 52983, 53216, 53680, 53723, 53998, 54104, 54287, 54351, 54550, 54841, 54853, 55115, 55297, 55677, 55771, 55808, 55934, 55936, 56021, 56207, 56359, 56431, 56543, 56557, 56754, 57128, 57143, 57150, 57190, 57287, 57406, 57774, 58087, 58174, 58201, 58212, 58374, 58502, 58547, 58556, 58638, 58765, 58766, 58786, 58820, 58837, 59102, 59223, 59248, 59284, 59452, 59510, 59521, 59614, 59672, 59773, 59874, 60201, 60283, 60316, 60429, 60488, 60500, 60556, 60699, 60739, 60924, 61011, 61156, 61166, 61301, 61407, 61482, 61506, 61592, 61607, 61626, 61651, 61663, 61666, 61931, 62250, 62265, 62356, 62359, 62428, 62432, 62766, 62804, 62975, 63572, 63819, 63824, 63846, 64062, 64139, 64195, 64882, 64931, 65603, 65700, 65824, 65865, 66382, 66877, 66884, 66962, 67052, 67410, 67423, 67529, 67536, 67614, 67655, 67788, 67967, 67994, 68423, 68613, 68641, 68771, 69509, 69652, 69868, 70146, 70176, 70326, 70338, 70429, 70476, 70548, 70565, 70666, 70795, 70816, 71050, 71098, 71122, 71298, 71416, 71501, 71828, 72034, 72036, 72085, 72107, 72426, 72495, 72649, 72686, 72816, 72927, 72964, 72983, 72989, 73104, 73124, 73201, 73492, 73530, 73538, 73612, 73701, 73777, 73820, 73978, 74050, 74189, 74551, 74661, 74700, 74937, 74993, 75121, 75142, 75151, 75228, 75370, 75461, 75510, 75542, 75595, 75739, 75793, 76022, 76043, 76064, 76432, 76437, 76488, 76568, 76603, 76743, 76904, 76998, 77164, 77189, 77529, 77677, 77696, 77697, 77825, 77971, 78050, 78174, 78206, 78207, 78600, 78661, 78692, 78704, 78736, 78853, 78924, 78974, 79250, 79291, 79438, 79743, 79847, 79880, 79918, 80025, 80093, 80192, 80229, 80295, 80325] \n",
      "\n",
      "266 offers for B col: [275, 656, 754, 772, 956, 1096, 1109, 1582, 2245, 2252, 2305, 2808, 3521, 3780, 3918, 3935, 4067, 4546, 4564, 4606, 4635, 4931, 5420, 5776, 6023, 6080, 6099, 7941, 8283, 8826, 9111, 9252, 9289, 9455, 9678, 10214, 10505, 11028, 11353, 12084, 12186, 12561, 13401, 13630, 13675, 13789, 13884, 14093, 14338, 14407, 14618, 14824, 15158, 15463, 15868, 16315, 16607, 16679, 17343, 17385, 17689, 18110, 18163, 19805, 20193, 20325, 20742, 20760, 20864, 22366, 22417, 22452, 22467, 22549, 22815, 23588, 23640, 23727, 24236, 25182, 25824, 26075, 26455, 26701, 26729, 26761, 26929, 26940, 27064, 27382, 27616, 27763, 28029, 28125, 28390, 28409, 29328, 29521, 29567, 29670, 30251, 30381, 30457, 30494, 30552, 30975, 31658, 31838, 32865, 32874, 33103, 33423, 33796, 33875, 33996, 34057, 34249, 34598, 34606, 34675, 35191, 36381, 36565, 36571, 36687, 36974, 37457, 38447, 38488, 38523, 39692, 40127, 40406, 40961, 41159, 41236, 41753, 41841, 42155, 42168, 42285, 42720, 43020, 43068, 43320, 43791, 44006, 44036, 44126, 44385, 44412, 44416, 44684, 44833, 44951, 45225, 45237, 45799, 45804, 46462, 46641, 46719, 47180, 47451, 47563, 47855, 48783, 48908, 49228, 49862, 49959, 50103, 50298, 50338, 50420, 50460, 50468, 50730, 50825, 51111, 51163, 51376, 51543, 52208, 52383, 52576, 52611, 52688, 52777, 53157, 53182, 54180, 54613, 54733, 54846, 55659, 55736, 56147, 56703, 57102, 57456, 57636, 57698, 57770, 57898, 58757, 58825, 58948, 59116, 59340, 59503, 59739, 59898, 61160, 61577, 61596, 61982, 62346, 62520, 62544, 62863, 63127, 64335, 64929, 65074, 65133, 65885, 65993, 66918, 67330, 67335, 67773, 68175, 68332, 70095, 70417, 70515, 70516, 70627, 71361, 71395, 71813, 71924, 72936, 72953, 73009, 73685, 73765, 73843, 74510, 75232, 75340, 75650, 76606, 76803, 76895, 77248, 77253, 77419, 77767, 78092, 78208, 78772, 78958, 80000, 80342] \n",
      "\n",
      "U2 might like https://www.youtube.com/watch?v=B9FzVhw8_bY\n",
      "The Dead South - In Hell I'll Be In Good Company [Official Music Video] \n",
      "\n",
      "U3 might like https://www.youtube.com/watch?v=cOgcRAymAiM\n",
      "Heights - These Streets (Official Video) \n",
      "\n",
      "HERE WE NEED TO FIND A WAY OF STORING UP THE DIFFERENT 'OFFERED TO U41' SERIES SO THAT WE CAN LOOK AT ALL THE SONGS BEING OFFERED TO B BY THE OTHER 95 USERS, AND CHOOSE THE MOST OFFERED \n",
      "\n",
      "U2 listened to each of his / her songs an average of 4.33 times\n",
      "U3 listened to each of his / her songs an average of 1.6 times \n",
      "\n",
      "RAN IN --- 28.155666828155518 seconds ---\n"
     ]
    }
   ],
   "source": [
    "start_time = time.time()\n",
    "\n",
    "# insert HERE the two users to be compared\n",
    "filled_test(\"U2\", \"U3\")\n",
    "\n",
    "print(\"RAN IN --- %s seconds ---\" % (time.time() - start_time))"
   ]
  },
  {
   "cell_type": "code",
   "execution_count": null,
   "metadata": {},
   "outputs": [],
   "source": []
  },
  {
   "cell_type": "markdown",
   "metadata": {},
   "source": [
    "## integrating the NUMBER of listens to a given song by a user to: 1 get a better picture of the strength of a match & 2 help get stronger recs"
   ]
  },
  {
   "cell_type": "code",
   "execution_count": 374,
   "metadata": {},
   "outputs": [
    {
     "data": {
      "text/plain": [
       "U0     234\n",
       "U1    3134\n",
       "U2     312\n",
       "U3     763\n",
       "U4     458\n",
       "dtype: int64"
      ]
     },
     "execution_count": 374,
     "metadata": {},
     "output_type": "execute_result"
    }
   ],
   "source": [
    "# How do the users compare in the number of different songs they've listened to?\n",
    "\n",
    "# no, I think this is total listens\n",
    "\n",
    "pivoted_int.astype(bool).sum(axis=0).head(5)"
   ]
  },
  {
   "cell_type": "code",
   "execution_count": 315,
   "metadata": {},
   "outputs": [
    {
     "name": "stdout",
     "output_type": "stream",
     "text": [
      "15 songs played by this user\n"
     ]
    }
   ],
   "source": [
    "# find number of non-zero cells in a user's column, i.e. the number of songs they've listened to\n",
    "\n",
    "print (pivoted_int.U26.astype(bool).sum(axis=0), \"songs played by this user\")"
   ]
  },
  {
   "cell_type": "code",
   "execution_count": 309,
   "metadata": {},
   "outputs": [
    {
     "data": {
      "text/plain": [
       "song\n",
       " 1UIwqUkSnIc    2\n",
       " ABagIZHEWyo    2\n",
       " EFJ7kDva7JE    2\n",
       " LiUjOFYDiBE    1\n",
       " MC44L5T0FVA    2\n",
       " OM_WUDxhYps    4\n",
       " QxHkLdQy5f0    2\n",
       " RT__tPTEVVA    1\n",
       " RjLXOw414DA    3\n",
       " WKnVaDwUg5s    1\n",
       " ea2WoUtbzuw    1\n",
       " l8wWa3O9cUo    1\n",
       " n2rVnRwW0h8    1\n",
       " r-lDqAlXZHo    1\n",
       " z_mdSEuZ7k8    1\n",
       "Name: U26, dtype: int64"
      ]
     },
     "execution_count": 309,
     "metadata": {},
     "output_type": "execute_result"
    }
   ],
   "source": [
    "# show all songs played, with number of listens for each\n",
    "\n",
    "user_A = \"U26\"\n",
    "\n",
    "non_zeros = (pivoted_int[(pivoted_int[user_A] != 0) ])\n",
    "\n",
    "non_zeros[user_A]\n"
   ]
  },
  {
   "cell_type": "code",
   "execution_count": null,
   "metadata": {},
   "outputs": [],
   "source": []
  },
  {
   "cell_type": "code",
   "execution_count": null,
   "metadata": {},
   "outputs": [],
   "source": []
  },
  {
   "cell_type": "code",
   "execution_count": null,
   "metadata": {},
   "outputs": [],
   "source": []
  },
  {
   "cell_type": "code",
   "execution_count": null,
   "metadata": {},
   "outputs": [],
   "source": []
  },
  {
   "cell_type": "code",
   "execution_count": null,
   "metadata": {},
   "outputs": [],
   "source": []
  },
  {
   "cell_type": "code",
   "execution_count": null,
   "metadata": {},
   "outputs": [],
   "source": []
  },
  {
   "cell_type": "code",
   "execution_count": null,
   "metadata": {},
   "outputs": [],
   "source": []
  },
  {
   "cell_type": "code",
   "execution_count": null,
   "metadata": {},
   "outputs": [],
   "source": []
  },
  {
   "cell_type": "code",
   "execution_count": null,
   "metadata": {},
   "outputs": [],
   "source": []
  },
  {
   "cell_type": "code",
   "execution_count": null,
   "metadata": {},
   "outputs": [],
   "source": []
  },
  {
   "cell_type": "code",
   "execution_count": null,
   "metadata": {},
   "outputs": [],
   "source": []
  },
  {
   "cell_type": "code",
   "execution_count": null,
   "metadata": {},
   "outputs": [],
   "source": []
  },
  {
   "cell_type": "code",
   "execution_count": null,
   "metadata": {},
   "outputs": [],
   "source": []
  },
  {
   "cell_type": "code",
   "execution_count": null,
   "metadata": {},
   "outputs": [],
   "source": []
  },
  {
   "cell_type": "code",
   "execution_count": null,
   "metadata": {},
   "outputs": [],
   "source": []
  }
 ],
 "metadata": {
  "kernelspec": {
   "display_name": "Python 3",
   "language": "python",
   "name": "python3"
  },
  "language_info": {
   "codemirror_mode": {
    "name": "ipython",
    "version": 3
   },
   "file_extension": ".py",
   "mimetype": "text/x-python",
   "name": "python",
   "nbconvert_exporter": "python",
   "pygments_lexer": "ipython3",
   "version": "3.6.8"
  }
 },
 "nbformat": 4,
 "nbformat_minor": 2
}
